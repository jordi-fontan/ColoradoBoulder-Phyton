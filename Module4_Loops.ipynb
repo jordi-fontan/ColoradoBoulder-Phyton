{
  "nbformat": 4,
  "nbformat_minor": 0,
  "metadata": {
    "colab": {
      "provenance": [],
      "authorship_tag": "ABX9TyOtwZgVNVhd3yHyXy+Huxd4",
      "include_colab_link": true
    },
    "kernelspec": {
      "name": "python3",
      "display_name": "Python 3"
    },
    "language_info": {
      "name": "python"
    }
  },
  "cells": [
    {
      "cell_type": "markdown",
      "metadata": {
        "id": "view-in-github",
        "colab_type": "text"
      },
      "source": [
        "<a href=\"https://colab.research.google.com/github/jordi-fontan/ColoradoBoulder-Phyton/blob/main/Module4_Loops.ipynb\" target=\"_parent\"><img src=\"https://colab.research.google.com/assets/colab-badge.svg\" alt=\"Open In Colab\"/></a>"
      ]
    },
    {
      "cell_type": "markdown",
      "source": [
        "# Module 4: Loops\n",
        "\n",
        "\n",
        "## Intro\n",
        "\n",
        "- We often need to run tasks repeatedly.\n",
        "- Rather than write the same code again and again , we can set a repetiion flow to execute statements based on:\n",
        "  - **Condition**\n",
        "  - **Count**\n",
        "\n",
        "## Condition Based Repetition\n",
        "\n",
        "  - While the condition is tested to be true, the enclosed statements will be executed.\n",
        "\n",
        "  ### The while loop\n",
        "\n",
        "  - We can use while to start a loop:\n",
        "  \n",
        "  ```\n",
        "  while condition:\n",
        "    statements\n",
        "   \n",
        "   ```\n",
        "\n",
        "   - the first line known as the *while* clause\n",
        "    - `while` clause speficies the `condition` with a :\n",
        "    - List statement(s) with a consitent **indention**\n",
        "    - If the condition is tested to be `True`, the statement(s) in `while` clause will be executed; otherrwise, skip and move to next."
      ],
      "metadata": {
        "id": "2DAXjlerExeo"
      }
    },
    {
      "cell_type": "code",
      "execution_count": null,
      "metadata": {
        "id": "Rmuhcm1fEwQ7"
      },
      "outputs": [],
      "source": []
    },
    {
      "cell_type": "markdown",
      "source": [
        "## Count-Based Repetition\n",
        "\n",
        "- We may also need to repeat the task for an specific number of times.\n",
        "\n",
        "### The for Loop\n",
        "\n",
        "- We can use `for`to start a loop:\n",
        "\n",
        "```\n",
        "for item in [item1, item2,.., itemn]:\n",
        "  statements\n",
        "\n",
        "```\n",
        "- The firts line known as the `for` clause\n",
        "  - `for` clause soecifies the *sequence* of *items* with a `:`\n",
        "  - Iterates once for each *item* in the *sequence*\n",
        "  - The number of items n in the seqyence is the number of time the statements will be executed\n",
        "  - List statement(s) with consistent identation.\n",
        "\n",
        "\n",
        "  ### The for loop with range\n",
        "\n",
        "  - We can use range to create a sequence for a for loop:\n",
        "  ```\n",
        "    for item in range(n):\n",
        "      statements\n",
        "\n",
        "  ``` \n",
        "  \n",
        "  ### `range()` characteristics:\n",
        "    \n",
        "    - One argument: used as ending limit: range(5)=range(0,5)=range(0,5,1)= [0,1,2,3,4,5]\n",
        "    - Two arguments: starting value and ending limit: range(2,5)= [2,3,4]\n",
        "    - Three arguments: thrid argument is step value: range (2,5,2)= [2,4]\n",
        "\n",
        "  ### `continue` and `break`  \n",
        "\n",
        "  - In repetition structure (any) we can use these two special keywords\n",
        "  - `continue` = skips the rest of the statement and jumps to the next iteration\n",
        "  - `break`= stop the repetition inmmediatly"
      ],
      "metadata": {
        "id": "lAWCUwH-HwvR"
      }
    },
    {
      "cell_type": "code",
      "source": [
        "## FOR LOOP\n",
        "\n",
        "# print a list of integers \n",
        "\n",
        "for i in [1,2,3,5,7]:\n",
        "  print(i)"
      ],
      "metadata": {
        "colab": {
          "base_uri": "https://localhost:8080/"
        },
        "id": "R0UwdTk3NM6Z",
        "outputId": "259e684d-ef7d-4539-c772-749c121f5128"
      },
      "execution_count": 2,
      "outputs": [
        {
          "output_type": "stream",
          "name": "stdout",
          "text": [
            "1\n",
            "2\n",
            "3\n",
            "5\n",
            "7\n"
          ]
        }
      ]
    },
    {
      "cell_type": "code",
      "source": [
        "## Range\n",
        "# print a range of numbers\n",
        "for i in range(5,10,3):\n",
        "  print(i)"
      ],
      "metadata": {
        "colab": {
          "base_uri": "https://localhost:8080/"
        },
        "id": "Gp-tjVApNnSO",
        "outputId": "0dc01164-5f76-4b88-f751-a082ced905f7"
      },
      "execution_count": 3,
      "outputs": [
        {
          "output_type": "stream",
          "name": "stdout",
          "text": [
            "5\n",
            "8\n"
          ]
        }
      ]
    },
    {
      "cell_type": "code",
      "source": [
        "## Chars and Strings\n",
        "for c in 'Hello World':\n",
        "  print(c)\n"
      ],
      "metadata": {
        "colab": {
          "base_uri": "https://localhost:8080/"
        },
        "id": "lfRZFu2NN3Vn",
        "outputId": "b229ef9a-c587-4eaf-a608-07faaa6248d8"
      },
      "execution_count": 4,
      "outputs": [
        {
          "output_type": "stream",
          "name": "stdout",
          "text": [
            "H\n",
            "e\n",
            "l\n",
            "l\n",
            "o\n",
            " \n",
            "W\n",
            "o\n",
            "r\n",
            "l\n",
            "d\n"
          ]
        }
      ]
    },
    {
      "cell_type": "code",
      "source": [
        "# calculate sum lf a list of numbers\n",
        "\n",
        "numbers=[1,2,3,5,7]\n",
        "sum=0\n",
        "for n in numbers:\n",
        "  sum+= n\n",
        "print(sum)\n"
      ],
      "metadata": {
        "colab": {
          "base_uri": "https://localhost:8080/"
        },
        "id": "GOhR_FOaOHj0",
        "outputId": "0539058d-bd3b-488b-e283-c69ed3d90df9"
      },
      "execution_count": 5,
      "outputs": [
        {
          "output_type": "stream",
          "name": "stdout",
          "text": [
            "18\n"
          ]
        }
      ]
    },
    {
      "cell_type": "code",
      "source": [
        "# claculate sum of 0 to 100\n",
        "sum=0\n",
        "for n in range(1,100):\n",
        "  sum+=n\n",
        "print(sum)  \n"
      ],
      "metadata": {
        "colab": {
          "base_uri": "https://localhost:8080/"
        },
        "id": "UAPIzm5tOgCk",
        "outputId": "71d800a5-34b0-489f-b985-8e57eba8093c"
      },
      "execution_count": 8,
      "outputs": [
        {
          "output_type": "stream",
          "name": "stdout",
          "text": [
            "4950\n"
          ]
        }
      ]
    }
  ]
}