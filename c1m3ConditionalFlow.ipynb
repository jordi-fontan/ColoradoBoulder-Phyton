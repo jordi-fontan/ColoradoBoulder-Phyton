{
  "nbformat": 4,
  "nbformat_minor": 0,
  "metadata": {
    "colab": {
      "provenance": [],
      "collapsed_sections": [],
      "authorship_tag": "ABX9TyOQ5zGlalppSoFuyl+UHndK",
      "include_colab_link": true
    },
    "kernelspec": {
      "name": "python3",
      "display_name": "Python 3"
    },
    "language_info": {
      "name": "python"
    }
  },
  "cells": [
    {
      "cell_type": "markdown",
      "metadata": {
        "id": "view-in-github",
        "colab_type": "text"
      },
      "source": [
        "<a href=\"https://colab.research.google.com/github/jordi-fontan/ColoradoBoulder-Phyton/blob/main/m3ConditionalFlow.ipynb\" target=\"_parent\"><img src=\"https://colab.research.google.com/assets/colab-badge.svg\" alt=\"Open In Colab\"/></a>"
      ]
    },
    {
      "cell_type": "markdown",
      "source": [
        "# Conditional flow\n",
        "\n",
        "## Single branch\n",
        "\n",
        "Here is a simple flow chart:\n",
        "\n",
        "\n"
      ],
      "metadata": {
        "id": "kdNqwze8aT3l"
      }
    },
    {
      "cell_type": "code",
      "execution_count": 3,
      "metadata": {
        "colab": {
          "base_uri": "https://localhost:8080/"
        },
        "id": "1dYZ7GBdYzGY",
        "outputId": "353af609-b466-42f6-af88-2bbe27bbf867"
      },
      "outputs": [
        {
          "output_type": "stream",
          "name": "stdout",
          "text": [
            "Enter a real number4.4\n",
            "Absolute value of x: 4.4\n"
          ]
        }
      ],
      "source": [
        "# Absolute value\n",
        "\n",
        "x=float(input('Enter a real number'))\n",
        "if x<0:\n",
        "    x=-x\n",
        "print('Absolute value of x:', x)      "
      ]
    },
    {
      "cell_type": "markdown",
      "source": [
        "## Multiple branches"
      ],
      "metadata": {
        "id": "QXLE_zFPdS8W"
      }
    },
    {
      "cell_type": "code",
      "source": [
        " # even or odd\n",
        "\n",
        " x = int(input('Enter an Integer: '))\n",
        " \n",
        " if x%2 == 0:\n",
        "     print('x is even', x)\n",
        " else:\n",
        "     print('x is odd', x)"
      ],
      "metadata": {
        "colab": {
          "base_uri": "https://localhost:8080/"
        },
        "id": "6ljU_fgheBG2",
        "outputId": "9a055883-992e-48b9-b1ac-d0b28044acc7"
      },
      "execution_count": 5,
      "outputs": [
        {
          "output_type": "stream",
          "name": "stdout",
          "text": [
            "Enter an Integer4\n",
            "x is even 4\n"
          ]
        }
      ]
    }
  ]
}
