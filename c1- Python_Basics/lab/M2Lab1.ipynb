{
  "nbformat": 4,
  "nbformat_minor": 0,
  "metadata": {
    "colab": {
      "provenance": [],
      "collapsed_sections": [],
      "toc_visible": true,
      "include_colab_link": true
    },
    "kernelspec": {
      "name": "python3",
      "display_name": "Python 3"
    },
    "language_info": {
      "name": "python"
    }
  },
  "cells": [
    {
      "cell_type": "markdown",
      "metadata": {
        "id": "view-in-github",
        "colab_type": "text"
      },
      "source": [
        "<a href=\"https://colab.research.google.com/github/jordi-fontan/ColoradoBoulder-Phyton/blob/main/lab/M2Lab1.ipynb\" target=\"_parent\"><img src=\"https://colab.research.google.com/assets/colab-badge.svg\" alt=\"Open In Colab\"/></a>"
      ]
    },
    {
      "cell_type": "markdown",
      "metadata": {
        "id": "cnAUJprJdh9_"
      },
      "source": [
        "# Welcome to our Lab Practice!"
      ]
    },
    {
      "cell_type": "markdown",
      "metadata": {
        "id": "vVYcayGedmms"
      },
      "source": [
        "This lab is about variables, assignments, and their value and data types. Are you ready? Let's get started!"
      ]
    },
    {
      "cell_type": "markdown",
      "metadata": {
        "id": "JP8eGBVyeSQx"
      },
      "source": [
        "You will find some small tasks in sections below. "
      ]
    },
    {
      "cell_type": "markdown",
      "metadata": {
        "id": "TNbXeCDFeAcJ"
      },
      "source": [
        "## Value assignment"
      ]
    },
    {
      "cell_type": "markdown",
      "metadata": {
        "id": "EZ42d1Sue0Zp"
      },
      "source": [
        "###Task: assign **x** with an int 5. \n",
        "\n",
        "Use print() and type() to check the value is correctly assigned, and the data type is correct. For example: print('x:', x, type(x))"
      ]
    },
    {
      "cell_type": "code",
      "metadata": {
        "id": "yDzNIHsSeu85",
        "colab": {
          "base_uri": "https://localhost:8080/"
        },
        "outputId": "a7db6f02-4a4e-4a4b-c874-048deb59cc94"
      },
      "source": [
        "x=5\n",
        "print('x:',x,type(x))"
      ],
      "execution_count": 1,
      "outputs": [
        {
          "output_type": "stream",
          "name": "stdout",
          "text": [
            "x: 5 <class 'int'>\n"
          ]
        }
      ]
    },
    {
      "cell_type": "markdown",
      "metadata": {
        "id": "u8WEYfEqIbWX"
      },
      "source": [
        "###Task: assign **int_x** with x. \n",
        "\n",
        "Use print() and type() to check the value is correctly assigned, and the data type is correct."
      ]
    },
    {
      "cell_type": "code",
      "metadata": {
        "id": "LKSmcHRRJUYY",
        "colab": {
          "base_uri": "https://localhost:8080/"
        },
        "outputId": "ab7939aa-26ad-4a6f-bd90-33d9a5ab21ba"
      },
      "source": [
        "int_x=x\n",
        "print(int_x,type(int_x))\n"
      ],
      "execution_count": 2,
      "outputs": [
        {
          "output_type": "stream",
          "name": "stdout",
          "text": [
            "5 <class 'int'>\n"
          ]
        }
      ]
    },
    {
      "cell_type": "markdown",
      "metadata": {
        "id": "-__o8ovbfSEH"
      },
      "source": [
        "###Task: assign **x** with a float 5.0. \n",
        "\n",
        "Use print() and type() to check the value is correctly assigned, and the data type is correct."
      ]
    },
    {
      "cell_type": "code",
      "metadata": {
        "id": "hOpxhSKog18Y",
        "colab": {
          "base_uri": "https://localhost:8080/"
        },
        "outputId": "d9254cb7-a430-4e8d-aba7-ba455c0aa272"
      },
      "source": [
        "# your code will be here\n",
        "x=5.0\n",
        "print('x:',x,type(x))"
      ],
      "execution_count": 3,
      "outputs": [
        {
          "output_type": "stream",
          "name": "stdout",
          "text": [
            "x: 5.0 <class 'float'>\n"
          ]
        }
      ]
    },
    {
      "cell_type": "markdown",
      "metadata": {
        "id": "uZYVZQIvIlPy"
      },
      "source": [
        "###Task: assign **float_x** with x. \n",
        "\n",
        "Use print() and type() to check the value is correctly assigned, and the data type is correct."
      ]
    },
    {
      "cell_type": "code",
      "metadata": {
        "id": "Y_3dcyvcQ2GI",
        "colab": {
          "base_uri": "https://localhost:8080/"
        },
        "outputId": "2ddeab6a-3b25-407d-9f0e-7b19257b0758"
      },
      "source": [
        "# your code will be here\n",
        "float_x=x\n",
        "print(float_x,type(float_x))"
      ],
      "execution_count": 4,
      "outputs": [
        {
          "output_type": "stream",
          "name": "stdout",
          "text": [
            "5.0 <class 'float'>\n"
          ]
        }
      ]
    },
    {
      "cell_type": "markdown",
      "metadata": {
        "id": "NpCNxK68gpME"
      },
      "source": [
        "###Task: assign **x** with a str '5'. \n",
        "\n",
        "Use print() and type() to check the value is correctly assigned, and the data type is correct."
      ]
    },
    {
      "cell_type": "code",
      "metadata": {
        "id": "txg-7uKfgKeW",
        "colab": {
          "base_uri": "https://localhost:8080/"
        },
        "outputId": "2418f3cc-cdf3-48db-e2a3-8ad1ce71a15b"
      },
      "source": [
        "# your code will be here\n",
        "x='5'\n",
        "print('x:',x,type(x))"
      ],
      "execution_count": 5,
      "outputs": [
        {
          "output_type": "stream",
          "name": "stdout",
          "text": [
            "x: 5 <class 'str'>\n"
          ]
        }
      ]
    },
    {
      "cell_type": "markdown",
      "metadata": {
        "id": "Viln-qF5Irq4"
      },
      "source": [
        "###Task: assign **str1_x** with x. \n",
        "\n",
        "Use print() and type() to check the value is correctly assigned, and the data type is correct."
      ]
    },
    {
      "cell_type": "code",
      "metadata": {
        "id": "EGFHzwI3QzqH",
        "colab": {
          "base_uri": "https://localhost:8080/"
        },
        "outputId": "ea1dc250-2e66-47b8-f7c1-0046ebcc4a7c"
      },
      "source": [
        "# your code will be here\n",
        "str1_x=x\n",
        "print('str1_x',str1_x,type(str1_x))"
      ],
      "execution_count": 6,
      "outputs": [
        {
          "output_type": "stream",
          "name": "stdout",
          "text": [
            "str_1 5 <class 'str'>\n"
          ]
        }
      ]
    },
    {
      "cell_type": "markdown",
      "metadata": {
        "id": "e0YP4pWzIQy0"
      },
      "source": [
        "###Task: assign **x** with a str '5.0'. \n",
        "\n",
        "Use print() and type() to check the value is correctly assigned, and the data type is correct."
      ]
    },
    {
      "cell_type": "code",
      "metadata": {
        "id": "i5oNpnSiIPtD",
        "colab": {
          "base_uri": "https://localhost:8080/"
        },
        "outputId": "9fb84c1b-c475-4873-d659-055be0dc8d2a"
      },
      "source": [
        "# your code will be here\n",
        "x='5.0'\n",
        "print('x:',x,type(x))"
      ],
      "execution_count": 7,
      "outputs": [
        {
          "output_type": "stream",
          "name": "stdout",
          "text": [
            "x: 5.0 <class 'str'>\n"
          ]
        }
      ]
    },
    {
      "cell_type": "markdown",
      "metadata": {
        "id": "9EwSZrKrIvat"
      },
      "source": [
        "###Task: assign **str2_x** with x. \n",
        "\n",
        "Use print() and type() to check the value is correctly assigned, and the data type is correct."
      ]
    },
    {
      "cell_type": "code",
      "metadata": {
        "id": "fobTAXmGJmV0",
        "colab": {
          "base_uri": "https://localhost:8080/"
        },
        "outputId": "d107ec38-a6ca-4e99-8860-520ae5ae05b6"
      },
      "source": [
        "# your code will be here\n",
        "str2_x=x\n",
        "print('str2_x',str2_x,type(str2_x))"
      ],
      "execution_count": 10,
      "outputs": [
        {
          "output_type": "stream",
          "name": "stdout",
          "text": [
            "str2_x 5.0 <class 'str'>\n"
          ]
        }
      ]
    },
    {
      "cell_type": "markdown",
      "metadata": {
        "id": "4xBE9LqXJpow"
      },
      "source": [
        "###Task: check all variables.\n",
        "\n",
        "Use print() and type() to check all the variables you created so far: **x, int_x, float_x, str1_x, str2_x** value and data types."
      ]
    },
    {
      "cell_type": "code",
      "metadata": {
        "id": "gDFtlm4lJopJ",
        "colab": {
          "base_uri": "https://localhost:8080/"
        },
        "outputId": "8df91fd8-2a06-4d16-92a8-2d6cfc80ead7"
      },
      "source": [
        "# your code will be here\n",
        "print('x',x,type(x))\n",
        "print('float_x',float_x,type(float_x))\n",
        "print('int_x',int_x,type(int_x))\n",
        "print('str1_x',str1_x,type(str1_x))\n",
        "print('str2_x',str2_x,type(str2_x))"
      ],
      "execution_count": 11,
      "outputs": [
        {
          "output_type": "stream",
          "name": "stdout",
          "text": [
            "x 5.0 <class 'str'>\n",
            "float_x 5.0 <class 'float'>\n",
            "int_x 5 <class 'int'>\n",
            "str1_x 5.0 <class 'str'>\n",
            "str2_x 5.0 <class 'str'>\n"
          ]
        }
      ]
    },
    {
      "cell_type": "markdown",
      "metadata": {
        "id": "D8pWdoN7d6Dy"
      },
      "source": [
        "## Value converting\n",
        "\n",
        "For the task below, convert data value from one type to another, assign it to x, and use print() and type() to check for correctness."
      ]
    },
    {
      "cell_type": "markdown",
      "metadata": {
        "id": "rXgbUIBRgQoG"
      },
      "source": [
        "###Task: convert a str '0' to int"
      ]
    },
    {
      "cell_type": "code",
      "metadata": {
        "id": "oIKwmW2mfe3d",
        "colab": {
          "base_uri": "https://localhost:8080/"
        },
        "outputId": "ea7d7276-b630-4c1c-8fc1-70cc0b251411"
      },
      "source": [
        "# your code will be here\n",
        "x=int('0')\n",
        "print('x',x,type(x))"
      ],
      "execution_count": 13,
      "outputs": [
        {
          "output_type": "stream",
          "name": "stdout",
          "text": [
            "x 0 <class 'int'>\n"
          ]
        }
      ]
    },
    {
      "cell_type": "markdown",
      "metadata": {
        "id": "aUD7waGAM-au"
      },
      "source": [
        "###Task: convert a float 0.1 to int"
      ]
    },
    {
      "cell_type": "code",
      "metadata": {
        "id": "lHsYgPViNBre",
        "colab": {
          "base_uri": "https://localhost:8080/"
        },
        "outputId": "a25a3215-3c59-4938-c178-5679d904d4f0"
      },
      "source": [
        "# your code will be here\n",
        "y=float('0.1')\n",
        "x=int(y)\n",
        "print('x',x,type(x))\n"
      ],
      "execution_count": 15,
      "outputs": [
        {
          "output_type": "stream",
          "name": "stdout",
          "text": [
            "x 0 <class 'int'>\n"
          ]
        }
      ]
    },
    {
      "cell_type": "markdown",
      "metadata": {
        "id": "QPoCScdkheK3"
      },
      "source": [
        "###Task: convert a str '0' to float"
      ]
    },
    {
      "cell_type": "code",
      "metadata": {
        "id": "tsFowDAKhJCB",
        "colab": {
          "base_uri": "https://localhost:8080/"
        },
        "outputId": "22b7af16-5f47-44d0-b2ca-bf360352723c"
      },
      "source": [
        "# your code will be here\n",
        "\n",
        "x=float('0')\n",
        "print('x',x,type(x))"
      ],
      "execution_count": 16,
      "outputs": [
        {
          "output_type": "stream",
          "name": "stdout",
          "text": [
            "x 0.0 <class 'float'>\n"
          ]
        }
      ]
    },
    {
      "cell_type": "markdown",
      "metadata": {
        "id": "TE6Df1WYhu10"
      },
      "source": [
        "###Task: convert an int 0 to float"
      ]
    },
    {
      "cell_type": "code",
      "metadata": {
        "id": "MSjQbhNXhJVV",
        "colab": {
          "base_uri": "https://localhost:8080/"
        },
        "outputId": "eff1848c-c34a-4b5a-ca49-92e6e38ff77f"
      },
      "source": [
        "# your code will be here\n",
        "x=float(0)\n",
        "\n",
        "print('x',x,type(x))"
      ],
      "execution_count": 18,
      "outputs": [
        {
          "output_type": "stream",
          "name": "stdout",
          "text": [
            "x 0.0 <class 'float'>\n"
          ]
        }
      ]
    },
    {
      "cell_type": "markdown",
      "metadata": {
        "id": "f-zusksziv_N"
      },
      "source": [
        "###Task: convert an int 0 to str"
      ]
    },
    {
      "cell_type": "code",
      "metadata": {
        "id": "rVF4T_pwhKMM",
        "colab": {
          "base_uri": "https://localhost:8080/"
        },
        "outputId": "38dc7d54-c9d0-46d9-f2ab-808aa0401705"
      },
      "source": [
        "# your code will be here\n",
        "x=str('0')\n",
        "print('x',x,type(x))"
      ],
      "execution_count": 19,
      "outputs": [
        {
          "output_type": "stream",
          "name": "stdout",
          "text": [
            "x 0 <class 'str'>\n"
          ]
        }
      ]
    },
    {
      "cell_type": "markdown",
      "metadata": {
        "id": "yls-7KE6kA7o"
      },
      "source": [
        "###Task: convert a float 0.1 to str"
      ]
    },
    {
      "cell_type": "code",
      "metadata": {
        "id": "ZZ1XEd29kAIR",
        "colab": {
          "base_uri": "https://localhost:8080/"
        },
        "outputId": "c48be80a-0605-4df2-cc1f-cb50e0b6fc2c"
      },
      "source": [
        "# your code will be here\n",
        "x=str(0.1)\n",
        "print('x',x,type(x))"
      ],
      "execution_count": 20,
      "outputs": [
        {
          "output_type": "stream",
          "name": "stdout",
          "text": [
            "x 0.1 <class 'str'>\n"
          ]
        }
      ]
    }
  ]
}