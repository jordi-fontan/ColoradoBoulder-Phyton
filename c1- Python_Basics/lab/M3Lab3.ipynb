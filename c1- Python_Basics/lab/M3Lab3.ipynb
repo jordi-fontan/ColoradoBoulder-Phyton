{
  "nbformat": 4,
  "nbformat_minor": 0,
  "metadata": {
    "colab": {
      "provenance": [],
      "collapsed_sections": [],
      "toc_visible": true,
      "include_colab_link": true
    },
    "kernelspec": {
      "name": "python3",
      "display_name": "Python 3"
    },
    "language_info": {
      "name": "python"
    }
  },
  "cells": [
    {
      "cell_type": "markdown",
      "metadata": {
        "id": "view-in-github",
        "colab_type": "text"
      },
      "source": [
        "<a href=\"https://colab.research.google.com/github/jordi-fontan/ColoradoBoulder-Phyton/blob/main/lab/M3Lab3.ipynb\" target=\"_parent\"><img src=\"https://colab.research.google.com/assets/colab-badge.svg\" alt=\"Open In Colab\"/></a>"
      ]
    },
    {
      "cell_type": "markdown",
      "metadata": {
        "id": "cnAUJprJdh9_"
      },
      "source": [
        "# Welcome to our Lab Practice!"
      ]
    },
    {
      "cell_type": "markdown",
      "metadata": {
        "id": "vVYcayGedmms"
      },
      "source": [
        "This lab is about branching - if-elif-else statements. Are you ready? Let's get started!"
      ]
    },
    {
      "cell_type": "markdown",
      "metadata": {
        "id": "JP8eGBVyeSQx"
      },
      "source": [
        "You will find some small tasks in sections below. "
      ]
    },
    {
      "cell_type": "markdown",
      "metadata": {
        "id": "EZ42d1Sue0Zp"
      },
      "source": [
        "###Task: check if a number is positive, negative, or 0. \n",
        "\n",
        "You should ask the user to enter a number, if it is above 0, print \"It is positive\"; if it is below 0, print \"It is negative\"; otherwise, print \"It is zero\"."
      ]
    },
    {
      "cell_type": "code",
      "metadata": {
        "id": "yDzNIHsSeu85",
        "colab": {
          "base_uri": "https://localhost:8080/"
        },
        "outputId": "8c4d4a99-5c18-4c9d-9e8f-f1d08188c3d6"
      },
      "source": [
        "# type your code here\n",
        "number=float(input('Type a number '))\n",
        "if number>0:\n",
        "  print('It is positive')\n",
        "elif number<0:\n",
        "  print('It is negative')\n",
        "else:\n",
        "  print('It is 0')\n",
        "\n"
      ],
      "execution_count": 3,
      "outputs": [
        {
          "output_type": "stream",
          "name": "stdout",
          "text": [
            "Type a number 6\n",
            "It is positive\n"
          ]
        }
      ]
    },
    {
      "cell_type": "markdown",
      "metadata": {
        "id": "u8WEYfEqIbWX"
      },
      "source": [
        "###Task: check how many days current month has. \n",
        "\n",
        "You should ask the user to enter the number indicating the current month, such as 1 as Janurary; then print the days the month has, such as print 31 if the user entered 1. Let's assume there are 28 days in February."
      ]
    },
    {
      "cell_type": "code",
      "metadata": {
        "id": "LKSmcHRRJUYY",
        "colab": {
          "base_uri": "https://localhost:8080/"
        },
        "outputId": "b36f6251-53a0-4329-da32-6ae1477968bb"
      },
      "source": [
        "# type your code here\n",
        "month=int(input('Type a number for current month'))\n",
        "if month == 1 or month == 3 or month == 5 or month == 7 or month == 8 or month == 10 or month == 12 :\n",
        "  print('It has 31 days')\n",
        "elif month == 2:\n",
        "  print('It has 28 days')\n",
        "else:\n",
        "  print('It has 30 days')"
      ],
      "execution_count": 6,
      "outputs": [
        {
          "output_type": "stream",
          "name": "stdout",
          "text": [
            "Type a number for current month4\n",
            "It has 30 days\n"
          ]
        }
      ]
    },
    {
      "cell_type": "markdown",
      "metadata": {
        "id": "-__o8ovbfSEH"
      },
      "source": [
        "###Task: collect parking fee \n",
        "\n",
        "A parking garage has following price policy\n",
        "\n",
        "\n",
        "1.   first half hour: 5\n",
        "2.   second half hour to 2 hours: 15\n",
        "3.   more than 2 hours: 5 per hour\n",
        "\n",
        "Ask the user to enter the hours of parking (it should be a float number, such as 1.6 as 1.6 hours), and calculate the parking fee.\n",
        "\n"
      ]
    },
    {
      "cell_type": "code",
      "metadata": {
        "id": "hOpxhSKog18Y",
        "colab": {
          "base_uri": "https://localhost:8080/"
        },
        "outputId": "832b0a74-2985-45a7-9964-8e4ebae489a3"
      },
      "source": [
        "# your code will be here\n",
        "\n",
        "hours=float(input('Type ther amount of hours'))\n",
        "if hours<=0.5:\n",
        "  print('It is 5$')\n",
        "elif hours<=2:\n",
        "  print('It is 15$')\n",
        "else:\n",
        "  print('It is', 5*hours)  \n"
      ],
      "execution_count": 9,
      "outputs": [
        {
          "output_type": "stream",
          "name": "stdout",
          "text": [
            "Type ther amount of hours4\n",
            "It is 20.0\n"
          ]
        }
      ]
    },
    {
      "cell_type": "markdown",
      "metadata": {
        "id": "uZYVZQIvIlPy"
      },
      "source": [
        "###Task: What stage are you in?  \n",
        "\n",
        "Write a program that asks the user to enter a person’s age. The program should display a message indicating whether the person is an infant, a child, a teenager, an adult, or a senior citizen. \n",
        "\n",
        "Following are the guidelines:\n",
        "1.   If the person is 1 year old or less, he or she is an infant.\n",
        "1.   If the person is older than 1 year, but younger than 13 years, he or she is a child.\n",
        "1.   If the person is at least 13 years old, but less than 20 years old, he or she is a teenager.\n",
        "1.   If the person is at least 20 years old, but less than 65 years old, he or she is an adult.\n",
        "1.   Otherwise the person is a senior citizen."
      ]
    },
    {
      "cell_type": "code",
      "metadata": {
        "id": "Y_3dcyvcQ2GI",
        "colab": {
          "base_uri": "https://localhost:8080/"
        },
        "outputId": "7ecfa123-e7dc-4b5c-95b6-b09baa6d6bca"
      },
      "source": [
        "# your code will be here\n",
        "  \n",
        "age=int(input('type ans integer for your age: '))\n",
        "stage=''\n",
        "\n",
        "if age<=1:\n",
        "    stage='Infant'\n",
        "elif age<13:\n",
        "    stage='Child'\n",
        "elif age<20:\n",
        "    stage='Teenage'\n",
        "elif age<65:\n",
        "    stage='Adult'\n",
        "else:\n",
        "    stage='Senior Citizen'\n",
        "\n",
        "print('Your stage is:',stage)          "
      ],
      "execution_count": 14,
      "outputs": [
        {
          "output_type": "stream",
          "name": "stdout",
          "text": [
            "type ans integer for your age: 77\n",
            "Your stage is: Senior Citizen\n"
          ]
        }
      ]
    }
  ]
}