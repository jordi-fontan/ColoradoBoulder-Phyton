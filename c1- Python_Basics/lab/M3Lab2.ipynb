{
  "nbformat": 4,
  "nbformat_minor": 0,
  "metadata": {
    "colab": {
      "provenance": [],
      "collapsed_sections": [],
      "toc_visible": true,
      "include_colab_link": true
    },
    "kernelspec": {
      "name": "python3",
      "display_name": "Python 3"
    },
    "language_info": {
      "name": "python"
    }
  },
  "cells": [
    {
      "cell_type": "markdown",
      "metadata": {
        "id": "view-in-github",
        "colab_type": "text"
      },
      "source": [
        "<a href=\"https://colab.research.google.com/github/jordi-fontan/ColoradoBoulder-Phyton/blob/main/lab/M3Lab2.ipynb\" target=\"_parent\"><img src=\"https://colab.research.google.com/assets/colab-badge.svg\" alt=\"Open In Colab\"/></a>"
      ]
    },
    {
      "cell_type": "markdown",
      "metadata": {
        "id": "cnAUJprJdh9_"
      },
      "source": [
        "# Welcome to our Lab Practice!"
      ]
    },
    {
      "cell_type": "markdown",
      "metadata": {
        "id": "vVYcayGedmms"
      },
      "source": [
        "This lab is about branching - if-else statements. Are you ready? Let's get started!"
      ]
    },
    {
      "cell_type": "markdown",
      "metadata": {
        "id": "JP8eGBVyeSQx"
      },
      "source": [
        "You will find some small tasks in sections below. "
      ]
    },
    {
      "cell_type": "markdown",
      "metadata": {
        "id": "EZ42d1Sue0Zp"
      },
      "source": [
        "###Task: Check if the weather is good for hiking. \n",
        "\n",
        "You should ask the user to enter a float value as the temporature in Fahrenheit. \n",
        "*   If the temporature is within [60, 80], print \"Perfect\"; \n",
        "*   otherwise, print \"Not that good\"."
      ]
    },
    {
      "cell_type": "code",
      "metadata": {
        "id": "yDzNIHsSeu85",
        "colab": {
          "base_uri": "https://localhost:8080/"
        },
        "outputId": "d2ea964c-78b3-4265-d517-696fc08d6a71"
      },
      "source": [
        "# type your code here\n",
        "t=float(input('Please enter a temp in Fahrenheit: '))\n",
        "if t<=80 and t>=60:\n",
        "  print('Perfect')\n",
        "else:\n",
        "  print('No that good')\n",
        "   "
      ],
      "execution_count": 3,
      "outputs": [
        {
          "output_type": "stream",
          "name": "stdout",
          "text": [
            "Please enter a temp in Fahrenheit: 40000000\n",
            "No that good\n"
          ]
        }
      ]
    },
    {
      "cell_type": "markdown",
      "metadata": {
        "id": "u8WEYfEqIbWX"
      },
      "source": [
        "###Task: Check if the user feels happy\n",
        "\n",
        "You should ask the user \"Are you happy now?\". \n",
        "*   If the user enters \"Yes\", print \"Fantastic!\"\n",
        "*   otherwise, print \"How can I help?\""
      ]
    },
    {
      "cell_type": "code",
      "metadata": {
        "id": "LKSmcHRRJUYY",
        "colab": {
          "base_uri": "https://localhost:8080/"
        },
        "outputId": "37b59d49-8140-4458-9fa4-40b3bf1721e6"
      },
      "source": [
        "# type your code here\n",
        "\n",
        "s=input('Are you happy now? ')\n",
        "if s=='Yes':\n",
        "  print('Fantastic')\n",
        "else:\n",
        "  print('How can I help you?')\n",
        "  \n"
      ],
      "execution_count": 5,
      "outputs": [
        {
          "output_type": "stream",
          "name": "stdout",
          "text": [
            "Are you happy now? Awwww\n",
            "How can I help you?\n"
          ]
        }
      ]
    },
    {
      "cell_type": "markdown",
      "metadata": {
        "id": "-__o8ovbfSEH"
      },
      "source": [
        "###Task: check if your plants need water \n",
        "\n",
        "You should ask the user to enter an integer indicating the level of moisture of the soil (from 1: super dry; to 10: super wet). \n",
        "\n",
        "*   If the level is below 3, print \"Yes, you should water your plants now\"\n",
        "*   otherwise, print \"No. Wait for the soil to be dryer\"."
      ]
    },
    {
      "cell_type": "code",
      "metadata": {
        "id": "hOpxhSKog18Y",
        "colab": {
          "base_uri": "https://localhost:8080/"
        },
        "outputId": "554e4e27-9507-4af0-8f3a-9f768c27b96a"
      },
      "source": [
        "# your code will be here\n",
        "moisture=int(input('Level of moisture of the soil?: '))\n",
        "if moisture<3:\n",
        "  print('Yes, you should water our plants now')\n",
        "else:\n",
        "  print('No. Wait for the soil to be dryer')"
      ],
      "execution_count": 7,
      "outputs": [
        {
          "output_type": "stream",
          "name": "stdout",
          "text": [
            "Level of moisture of the soil?: 5\n",
            "No. Wait for the soil to be dryer\n"
          ]
        }
      ]
    },
    {
      "cell_type": "markdown",
      "metadata": {
        "id": "8fGRh5FviHXB"
      },
      "source": [
        "###Task: check if a student finished Lab2 \n",
        "\n",
        "At first, ask the user: \"Do you care about your learning outcome?\"\n",
        "\n",
        "*    If yes, ask the user \"Have your finished M3Lab2?\"\n",
        "**    if yes, print \"Good job!\"\n",
        "**    If no, print \"Get it done ASAP!!!!!!\"\n",
        "*    If no, then print \"As long as you are happy.\""
      ]
    },
    {
      "cell_type": "code",
      "metadata": {
        "id": "OSnp3ZYuiiUj",
        "colab": {
          "base_uri": "https://localhost:8080/"
        },
        "outputId": "5057ed49-8cd5-4891-e2fb-e989802ca104"
      },
      "source": [
        "# your code will be here\n",
        "response=input('Do you care about your leanting outcome?')\n",
        "if response=='yes':\n",
        "  response2=input('Have you finished M3Lab2?')\n",
        "  if response2=='yes':\n",
        "    print('Good Job')\n",
        "  else:\n",
        "    print('Get it done ASAP!!!')\n",
        "else:\n",
        "  print('As long as you are happy')\n",
        "        "
      ],
      "execution_count": 10,
      "outputs": [
        {
          "output_type": "stream",
          "name": "stdout",
          "text": [
            "Do you care about your leanting outcome?no\n",
            "As long as you are happy\n"
          ]
        }
      ]
    }
  ]
}