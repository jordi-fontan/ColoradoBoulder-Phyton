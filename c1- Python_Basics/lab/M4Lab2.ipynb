{
  "nbformat": 4,
  "nbformat_minor": 0,
  "metadata": {
    "colab": {
      "provenance": [],
      "collapsed_sections": [],
      "toc_visible": true,
      "include_colab_link": true
    },
    "kernelspec": {
      "name": "python3",
      "display_name": "Python 3"
    },
    "language_info": {
      "name": "python"
    }
  },
  "cells": [
    {
      "cell_type": "markdown",
      "metadata": {
        "id": "view-in-github",
        "colab_type": "text"
      },
      "source": [
        "<a href=\"https://colab.research.google.com/github/jordi-fontan/ColoradoBoulder-Phyton/blob/main/lab/M4Lab2.ipynb\" target=\"_parent\"><img src=\"https://colab.research.google.com/assets/colab-badge.svg\" alt=\"Open In Colab\"/></a>"
      ]
    },
    {
      "cell_type": "markdown",
      "metadata": {
        "id": "cnAUJprJdh9_"
      },
      "source": [
        "# Welcome to our Lab Practice!"
      ]
    },
    {
      "cell_type": "markdown",
      "metadata": {
        "id": "vVYcayGedmms"
      },
      "source": [
        "This lab is about repetition - for loops. Are you ready? Let's get started!"
      ]
    },
    {
      "cell_type": "markdown",
      "metadata": {
        "id": "JP8eGBVyeSQx"
      },
      "source": [
        "You will find some small tasks in sections below. "
      ]
    },
    {
      "cell_type": "markdown",
      "metadata": {
        "id": "dgugXiakzLOB"
      },
      "source": [
        "###Task: Print all even numbers within 20"
      ]
    },
    {
      "cell_type": "code",
      "metadata": {
        "id": "KGdX6n3ZzRtb",
        "colab": {
          "base_uri": "https://localhost:8080/"
        },
        "outputId": "4581725e-5147-436e-b376-e9e3ed209020"
      },
      "source": [
        "# type your code here\n",
        "\n",
        "for n in range(21):\n",
        "  if n%2==0:\n",
        "    print(n)\n",
        "\n",
        "\n",
        "for n in range(0,21,2):\n",
        "  \n",
        "    print(n)    "
      ],
      "execution_count": 3,
      "outputs": [
        {
          "output_type": "stream",
          "name": "stdout",
          "text": [
            "0\n",
            "2\n",
            "4\n",
            "6\n",
            "8\n",
            "10\n",
            "12\n",
            "14\n",
            "16\n",
            "18\n",
            "20\n",
            "0\n",
            "2\n",
            "4\n",
            "6\n",
            "8\n",
            "10\n",
            "12\n",
            "14\n",
            "16\n",
            "18\n",
            "20\n"
          ]
        }
      ]
    },
    {
      "cell_type": "markdown",
      "metadata": {
        "id": "qnE0ig4zzWGU"
      },
      "source": [
        "### Task: Print all numbers dividble by 5 within 100"
      ]
    },
    {
      "cell_type": "code",
      "metadata": {
        "id": "pzHVe6FFzfH_",
        "colab": {
          "base_uri": "https://localhost:8080/"
        },
        "outputId": "fdcf1c1b-dd67-482c-ed42-c755510fefc2"
      },
      "source": [
        "# type your code here\n",
        "for n in range(101):\n",
        "  if n%5==0:\n",
        "    print(n)\n",
        "\n",
        " "
      ],
      "execution_count": 4,
      "outputs": [
        {
          "output_type": "stream",
          "name": "stdout",
          "text": [
            "0\n",
            "5\n",
            "10\n",
            "15\n",
            "20\n",
            "25\n",
            "30\n",
            "35\n",
            "40\n",
            "45\n",
            "50\n",
            "55\n",
            "60\n",
            "65\n",
            "70\n",
            "75\n",
            "80\n",
            "85\n",
            "90\n",
            "95\n",
            "100\n",
            "0\n"
          ]
        }
      ]
    },
    {
      "cell_type": "code",
      "source": [
        "for n in range(0,101,5):\n",
        "  print(n)   "
      ],
      "metadata": {
        "colab": {
          "base_uri": "https://localhost:8080/"
        },
        "id": "YtWa-UeeQrB_",
        "outputId": "491c351e-ca3a-4e02-c008-2cbcd5f615d6"
      },
      "execution_count": 6,
      "outputs": [
        {
          "output_type": "stream",
          "name": "stdout",
          "text": [
            "0\n",
            "5\n",
            "10\n",
            "15\n",
            "20\n",
            "25\n",
            "30\n",
            "35\n",
            "40\n",
            "45\n",
            "50\n",
            "55\n",
            "60\n",
            "65\n",
            "70\n",
            "75\n",
            "80\n",
            "85\n",
            "90\n",
            "95\n",
            "100\n"
          ]
        }
      ]
    },
    {
      "cell_type": "markdown",
      "metadata": {
        "id": "EZ42d1Sue0Zp"
      },
      "source": [
        "###Task: Print all integers from -5 to 5. \n"
      ]
    },
    {
      "cell_type": "code",
      "metadata": {
        "id": "yDzNIHsSeu85",
        "colab": {
          "base_uri": "https://localhost:8080/"
        },
        "outputId": "2325aaf7-9980-46a9-857a-012b96fde4a7"
      },
      "source": [
        "# type your code here\n",
        "for n in range(-5,6,1):\n",
        "  print(n)"
      ],
      "execution_count": 7,
      "outputs": [
        {
          "output_type": "stream",
          "name": "stdout",
          "text": [
            "-5\n",
            "-4\n",
            "-3\n",
            "-2\n",
            "-1\n",
            "0\n",
            "1\n",
            "2\n",
            "3\n",
            "4\n",
            "5\n"
          ]
        }
      ]
    },
    {
      "cell_type": "markdown",
      "metadata": {
        "id": "u8WEYfEqIbWX"
      },
      "source": [
        "###Task: Print all integers of an interval given by the user\n",
        "\n",
        "Ask the user to enter two integers and print all integers between (including) them."
      ]
    },
    {
      "cell_type": "code",
      "metadata": {
        "id": "LKSmcHRRJUYY",
        "colab": {
          "base_uri": "https://localhost:8080/"
        },
        "outputId": "33765a00-ab77-4471-faff-1d158f2ffd36"
      },
      "source": [
        "# type your code here\n",
        "\n",
        "bottom=int(input('Select bottom int: '))\n",
        "top=int(input('Select top int: '))\n",
        "\n",
        "for n in range(bottom, top+1,1):\n",
        "  print(n)"
      ],
      "execution_count": 8,
      "outputs": [
        {
          "output_type": "stream",
          "name": "stdout",
          "text": [
            "Select bottom int: 3\n",
            "Select top int: 10\n",
            "3\n",
            "4\n",
            "5\n",
            "6\n",
            "7\n",
            "8\n",
            "9\n",
            "10\n"
          ]
        }
      ]
    }
  ]
}