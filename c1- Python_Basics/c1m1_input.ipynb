{
  "nbformat": 4,
  "nbformat_minor": 0,
  "metadata": {
    "colab": {
      "provenance": [],
      "collapsed_sections": [],
      "authorship_tag": "ABX9TyN8a5WOsf4NI3Y7wna6BjxO",
      "include_colab_link": true
    },
    "kernelspec": {
      "name": "python3",
      "display_name": "Python 3"
    },
    "language_info": {
      "name": "python"
    }
  },
  "cells": [
    {
      "cell_type": "markdown",
      "metadata": {
        "id": "view-in-github",
        "colab_type": "text"
      },
      "source": [
        "<a href=\"https://colab.research.google.com/github/jordi-fontan/ColoradoBoulder-Phyton/blob/main/module1_input.ipynb\" target=\"_parent\"><img src=\"https://colab.research.google.com/assets/colab-badge.svg\" alt=\"Open In Colab\"/></a>"
      ]
    },
    {
      "cell_type": "code",
      "execution_count": 2,
      "metadata": {
        "colab": {
          "base_uri": "https://localhost:8080/"
        },
        "id": "igWRfX7OQZjc",
        "outputId": "74c8c4c1-6c03-4c5e-8da1-cace6d5ac212"
      },
      "outputs": [
        {
          "output_type": "stream",
          "name": "stdout",
          "text": [
            "Hello, world\n",
            "Hello world\n",
            "I'm OK\n",
            "I'm OK\n",
            "\n",
            "\n",
            "- \"Hello, I'm fine\" she said\n",
            "- \"I don't give a cucumber\" - repli'd Sherlock'd\n",
            "\n",
            "\n",
            "\n",
            "\n",
            "What's your name?hhh\n",
            "What is your name?sjkdls\n",
            "sjkdls\n"
          ]
        }
      ],
      "source": [
        "# hello world\n",
        "print('Hello, world')  # python comunity\n",
        "# double or single quotes\n",
        "print(\"Hello world\")\n",
        "\n",
        "print(\"I'm OK\")\n",
        "print('I\\'m OK') # scaping ...\\n \\t \\\\\n",
        "\n",
        "# triple quotation\n",
        "\n",
        "print('''\n",
        "\n",
        "- \"Hello, I'm fine\" she said\n",
        "- \"I don't give a cucumber\" - repli'd Sherlock'd\n",
        "\n",
        "\n",
        "\n",
        "''')\n",
        "input(\"What's your name?\")\n",
        "\n",
        "# that way will print the input after\n",
        "print(input('What is your name?'))"
      ]
    }
  ]
}
