{
  "nbformat": 4,
  "nbformat_minor": 0,
  "metadata": {
    "colab": {
      "provenance": [],
      "authorship_tag": "ABX9TyNQdzaj1auR2M4jd8fTrXAe",
      "include_colab_link": true
    },
    "kernelspec": {
      "name": "python3",
      "display_name": "Python 3"
    },
    "language_info": {
      "name": "python"
    }
  },
  "cells": [
    {
      "cell_type": "markdown",
      "metadata": {
        "id": "view-in-github",
        "colab_type": "text"
      },
      "source": [
        "<a href=\"https://colab.research.google.com/github/jordi-fontan/ColoradoBoulder-Phyton/blob/main/1-%20Google%20Colab%20Enviroment/0-Quotations.ipynb\" target=\"_parent\"><img src=\"https://colab.research.google.com/assets/colab-badge.svg\" alt=\"Open In Colab\"/></a>"
      ]
    },
    {
      "cell_type": "code",
      "execution_count": null,
      "metadata": {
        "id": "igWRfX7OQZjc"
      },
      "outputs": [],
      "source": [
        "# hello world\n",
        "print('Hello, world')  # python comunity\n",
        "# double or single quotes\n",
        "print(\"Hello world\")\n",
        "\n",
        "print(\"I'm OK\")\n",
        "print('I\\'m OK') # scaping ...\\n \\t \\\\\n",
        "\n",
        "# triple quotation\n",
        "\n",
        "print('''\n",
        "\n",
        "- \"Hello, I'm fine\" she said\n",
        "- \"I don't give a cucumber\" - repli'd Sherlock'd\n",
        "\n",
        "\n",
        "\n",
        "''')"
      ]
    }
  ]
}