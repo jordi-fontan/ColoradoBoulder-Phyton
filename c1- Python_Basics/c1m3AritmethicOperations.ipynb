{
  "nbformat": 4,
  "nbformat_minor": 0,
  "metadata": {
    "colab": {
      "provenance": [],
      "authorship_tag": "ABX9TyN4eGbLR5aDYqnTPU8/9YLn",
      "include_colab_link": true
    },
    "kernelspec": {
      "name": "python3",
      "display_name": "Python 3"
    },
    "language_info": {
      "name": "python"
    }
  },
  "cells": [
    {
      "cell_type": "markdown",
      "metadata": {
        "id": "view-in-github",
        "colab_type": "text"
      },
      "source": [
        "<a href=\"https://colab.research.google.com/github/jordi-fontan/ColoradoBoulder-Phyton/blob/main/c1m3AritmethicOperations.ipynb\" target=\"_parent\"><img src=\"https://colab.research.google.com/assets/colab-badge.svg\" alt=\"Open In Colab\"/></a>"
      ]
    },
    {
      "cell_type": "markdown",
      "source": [
        "# Operations\n",
        "\n",
        "+,-\n",
        "*,/,**\n",
        "//,%\n"
      ],
      "metadata": {
        "id": "OSiqol-x71Qh"
      }
    },
    {
      "cell_type": "code",
      "execution_count": null,
      "metadata": {
        "colab": {
          "base_uri": "https://localhost:8080/"
        },
        "id": "o69CTHgg7Bxy",
        "outputId": "a73820cb-8e62-468f-c255-074cd81c296d"
      },
      "outputs": [
        {
          "output_type": "stream",
          "name": "stdout",
          "text": [
            "7\n",
            "4\n",
            "6\n",
            "3.0\n",
            "27\n",
            "1\n",
            "2\n"
          ]
        }
      ],
      "source": [
        "print(3+4)\n",
        "print(6-2)\n",
        "print(3*2)\n",
        "print(6/2)\n",
        "print(3**3)\n",
        "print(9%4)\n",
        "print(9//4)\n"
      ]
    },
    {
      "cell_type": "markdown",
      "source": [
        "# Converters:\n",
        "\n",
        "**input() is str**\n"
      ],
      "metadata": {
        "id": "JOszYtM7dVpJ"
      }
    },
    {
      "cell_type": "code",
      "source": [
        "print(type(input(\"Type a number:\")))"
      ],
      "metadata": {
        "colab": {
          "base_uri": "https://localhost:8080/"
        },
        "id": "0Cn_ciYxdcIU",
        "outputId": "b3c71fd3-060c-4308-b9e6-52b9cb28be35"
      },
      "execution_count": null,
      "outputs": [
        {
          "output_type": "stream",
          "name": "stdout",
          "text": [
            "Type a number:3\n",
            "<class 'str'>\n"
          ]
        }
      ]
    },
    {
      "cell_type": "markdown",
      "source": [
        "\n",
        "\n",
        "*  int()\n",
        "*  float()\n",
        "* str()\n",
        "\n",
        "\n",
        "\n",
        "\n"
      ],
      "metadata": {
        "id": "OyMFwafmeZVz"
      }
    },
    {
      "cell_type": "code",
      "source": [
        "x=int(input(\"Type a number(int):\"))\n",
        "print(x, \"is a \", type(x))\n"
      ],
      "metadata": {
        "colab": {
          "base_uri": "https://localhost:8080/"
        },
        "id": "y8iPCyN3ew8q",
        "outputId": "9514eaca-985c-4a0d-c655-4091b39d7b7e"
      },
      "execution_count": null,
      "outputs": [
        {
          "output_type": "stream",
          "name": "stdout",
          "text": [
            "Type a number(int):8\n",
            "8 is a  <class 'int'>\n"
          ]
        }
      ]
    },
    {
      "cell_type": "markdown",
      "source": [
        "## Splitting and errors\n",
        "\n",
        "\n",
        "\n"
      ],
      "metadata": {
        "id": "63r2QnFufhqP"
      }
    },
    {
      "cell_type": "code",
      "source": [
        "first_name, last_name=input('type your first and last name').split(' ') \n",
        "print('name:',first_name)\n",
        "print('last name:',last_name)\n",
        "\n",
        "#mult two numbers\n",
        "\n",
        "x,y=input('type 2 integers').split()\n",
        "print(int(x)) # wild raise and error if can't convert\n",
        "print(int(y))\n"
      ],
      "metadata": {
        "colab": {
          "base_uri": "https://localhost:8080/",
          "height": 287
        },
        "id": "pG2oO0tpfsKq",
        "outputId": "84723f40-d309-4eb0-9431-b34d12f27c46"
      },
      "execution_count": null,
      "outputs": [
        {
          "output_type": "stream",
          "name": "stdout",
          "text": [
            "type your first and last nameJordi Fontan\n",
            "name: Jordi\n",
            "last name: Fontan\n",
            "type 2 integers3 two\n",
            "3\n"
          ]
        },
        {
          "output_type": "error",
          "ename": "ValueError",
          "evalue": "ignored",
          "traceback": [
            "\u001b[0;31m---------------------------------------------------------------------------\u001b[0m",
            "\u001b[0;31mValueError\u001b[0m                                Traceback (most recent call last)",
            "\u001b[0;32m<ipython-input-8-9f5a25ddff5a>\u001b[0m in \u001b[0;36m<module>\u001b[0;34m\u001b[0m\n\u001b[1;32m      7\u001b[0m \u001b[0mx\u001b[0m\u001b[0;34m,\u001b[0m\u001b[0my\u001b[0m\u001b[0;34m=\u001b[0m\u001b[0minput\u001b[0m\u001b[0;34m(\u001b[0m\u001b[0;34m'type 2 integers'\u001b[0m\u001b[0;34m)\u001b[0m\u001b[0;34m.\u001b[0m\u001b[0msplit\u001b[0m\u001b[0;34m(\u001b[0m\u001b[0;34m)\u001b[0m\u001b[0;34m\u001b[0m\u001b[0;34m\u001b[0m\u001b[0m\n\u001b[1;32m      8\u001b[0m \u001b[0mprint\u001b[0m\u001b[0;34m(\u001b[0m\u001b[0mint\u001b[0m\u001b[0;34m(\u001b[0m\u001b[0mx\u001b[0m\u001b[0;34m)\u001b[0m\u001b[0;34m)\u001b[0m \u001b[0;31m# wild raise and error if can't convert\u001b[0m\u001b[0;34m\u001b[0m\u001b[0;34m\u001b[0m\u001b[0m\n\u001b[0;32m----> 9\u001b[0;31m \u001b[0mprint\u001b[0m\u001b[0;34m(\u001b[0m\u001b[0mint\u001b[0m\u001b[0;34m(\u001b[0m\u001b[0my\u001b[0m\u001b[0;34m)\u001b[0m\u001b[0;34m)\u001b[0m\u001b[0;34m\u001b[0m\u001b[0;34m\u001b[0m\u001b[0m\n\u001b[0m",
            "\u001b[0;31mValueError\u001b[0m: invalid literal for int() with base 10: 'two'"
          ]
        }
      ]
    }
  ]
}