{
  "nbformat": 4,
  "nbformat_minor": 0,
  "metadata": {
    "colab": {
      "provenance": [],
      "collapsed_sections": [],
      "toc_visible": true,
      "include_colab_link": true
    },
    "kernelspec": {
      "name": "python3",
      "display_name": "Python 3"
    },
    "language_info": {
      "name": "python"
    }
  },
  "cells": [
    {
      "cell_type": "markdown",
      "metadata": {
        "id": "view-in-github",
        "colab_type": "text"
      },
      "source": [
        "<a href=\"https://colab.research.google.com/github/jordi-fontan/ColoradoBoulder-Phyton/blob/main/assignment/M4Assignment.ipynb\" target=\"_parent\"><img src=\"https://colab.research.google.com/assets/colab-badge.svg\" alt=\"Open In Colab\"/></a>"
      ]
    },
    {
      "cell_type": "markdown",
      "metadata": {
        "id": "cnAUJprJdh9_"
      },
      "source": [
        "# Welcome to our last assignment!"
      ]
    },
    {
      "cell_type": "markdown",
      "metadata": {
        "id": "vVYcayGedmms"
      },
      "source": [
        "This assignment is about testing your understanding of flow control: repetition.\n",
        "\n",
        "We are going to create some simple programs using these tools. Are you ready? Let's get started!"
      ]
    },
    {
      "cell_type": "markdown",
      "metadata": {
        "id": "JP8eGBVyeSQx"
      },
      "source": [
        "You will find some small tasks in sections below. You should use input() to get the user to enter the information and use print() to print the information on the screen. At this moment, we can assume users will follow instructions carefully - they will enter the valid inputs as required."
      ]
    },
    {
      "cell_type": "markdown",
      "metadata": {
        "id": "TNbXeCDFeAcJ"
      },
      "source": [
        "## Prime Numbers\n",
        "\n",
        "### Instruction:\n",
        "\n",
        "Step 1: Ask the user to enter an integer\n",
        "\n",
        "Step 2: find and print all prime numbers up to the integer."
      ]
    },
    {
      "cell_type": "code",
      "metadata": {
        "id": "x6IbZ6rFw76O",
        "colab": {
          "base_uri": "https://localhost:8080/"
        },
        "outputId": "b6766346-7772-4a41-dea9-b88b74f05aff"
      },
      "source": [
        "# your code is here\n",
        "\n",
        "number=int(input('Enter a number:'))\n",
        "\n",
        "for prime_candidate in range(2,number+1):\n",
        "\n",
        "  number_below_candidate=2\n",
        "  while number_below_candidate <prime_candidate:\n",
        "     prime=True\n",
        "     if prime_candidate % number_below_candidate == 0: \n",
        "       # we found a divisor\n",
        "       prime=False\n",
        "       break \n",
        "     else:\n",
        "       # try next number\n",
        "       number_below_candidate +=1      \n",
        "       #if we reach this point no divisor has been found\n",
        "     if(prime):\n",
        "       print(prime_candidate)\n",
        "     break\n",
        "   \n",
        "    \n",
        "    \n",
        " \n"
      ],
      "execution_count": 19,
      "outputs": [
        {
          "output_type": "stream",
          "name": "stdout",
          "text": [
            "Enter a number:23\n",
            "3\n",
            "5\n",
            "7\n",
            "9\n",
            "11\n",
            "13\n",
            "15\n",
            "17\n",
            "19\n",
            "21\n",
            "23\n"
          ]
        }
      ]
    },
    {
      "cell_type": "markdown",
      "metadata": {
        "id": "fZfiqg5lxFKF"
      },
      "source": [
        "## Binary Converter\n",
        "\n",
        "###Instruction: You are going to program a decimal to binary converter.\n",
        "\n",
        "step1: Ask the user to enter a positive decimal integer.\n",
        "\n",
        "step2: Calculate the binary representation of the integer by keep dividing until the reminder is less than 2, keep record of all the reminders.\n",
        "\n",
        "step3: Print reminders as the binary representation."
      ]
    },
    {
      "cell_type": "code",
      "metadata": {
        "id": "2bODNGPSx1-m",
        "colab": {
          "base_uri": "https://localhost:8080/"
        },
        "outputId": "9a03035f-33f8-449a-a6f1-f5f1874ac93e"
      },
      "source": [
        "# your code is here\n",
        "\n",
        "number=int(input('enter a number'))\n",
        "bin = ''\n",
        "while number > 0:\n",
        "  reminder = number % 2\n",
        "  bin = str(reminder) + bin\n",
        "  number = number // 2\n",
        "print(bin)\n"
      ],
      "execution_count": 24,
      "outputs": [
        {
          "output_type": "stream",
          "name": "stdout",
          "text": [
            "enter a number2\n",
            "10\n"
          ]
        }
      ]
    },
    {
      "cell_type": "markdown",
      "metadata": {
        "id": "cZmW-HnwyHcI"
      },
      "source": [
        "## A Simple Grade Book\n",
        "\n",
        "###Instruction: You are going to program a simple grade book.\n",
        "\n",
        "step1: Ask the user to enter the number of students in a class\n",
        "\n",
        "step2: Ask the user to enter the grade (in a 0-100 scale) of each student  \n",
        "\n",
        "step3: Calculate and print the average, min, and max grade of the class."
      ]
    },
    {
      "cell_type": "code",
      "metadata": {
        "id": "wk6FHvAvyr_G",
        "colab": {
          "base_uri": "https://localhost:8080/"
        },
        "outputId": "13bb6d8d-8e30-4dc5-d6a5-fef9e79affd1"
      },
      "source": [
        "# your code is here\n",
        "students_number=int(input('How many students?'))\n",
        "total=0.0\n",
        "max=0.0\n",
        "min=10.0\n",
        "for i in range(students_number):\n",
        "  grade=float(input('Enter grade for '+str(i)+':'))\n",
        "  total+=grade\n",
        "  if grade<min:\n",
        "    min=grade\n",
        "  if grade>max:\n",
        "    max=grade\n",
        "print(min,max,total/students_number)       \n"
      ],
      "execution_count": 27,
      "outputs": [
        {
          "output_type": "stream",
          "name": "stdout",
          "text": [
            "How many students?3\n",
            "Enter grade for 0:4\n",
            "Enter grade for 1:6\n",
            "Enter grade for 2:9\n",
            "4.0 9.0 6.333333333333333\n"
          ]
        }
      ]
    },
    {
      "cell_type": "markdown",
      "metadata": {
        "id": "UQBB918Z2e9F"
      },
      "source": [
        "## Fahrenheit to Celcius Converter\n",
        "\n",
        "###Instruction: You are going to program a simple converter which converts a Fahrenheit degree to Celcius degree..\n",
        "\n",
        "step1: Ask the user to enter the number in Fahrenheit, (enter stop to quit the program) \n",
        "\n",
        "step2: Calculate the celcius based on the formular c = (f - 32) * 5 / 9\n",
        "\n",
        "step3: print the celcius "
      ]
    },
    {
      "cell_type": "code",
      "metadata": {
        "id": "KCYqU3Sp2cpT",
        "colab": {
          "base_uri": "https://localhost:8080/"
        },
        "outputId": "5598c1c2-842d-478c-a198-8c7fca67cd4b"
      },
      "source": [
        "# your code is here\n",
        "tempF=input('Enter a Fahrenheit')\n",
        "while tempF!='stop':\n",
        "  f=float(tempF)\n",
        "  c=(f-32)*5/9\n",
        "  print(c)\n",
        "  tempF=input('Enter a Fahrenheit')"
      ],
      "execution_count": 23,
      "outputs": [
        {
          "name": "stdout",
          "output_type": "stream",
          "text": [
            "Enter a Fahrenheit70\n",
            "21.11111111111111\n",
            "Enter a Fahrenheitstop\n"
          ]
        }
      ]
    },
    {
      "cell_type": "markdown",
      "metadata": {
        "id": "AhO_LPgG3S1R"
      },
      "source": [
        "## How many E and e in a sentence?\n",
        "\n",
        "###Instruction: You are going to program a simple counter which finds how many 'E' and 'e' in a sentence entered by the user.\n",
        "\n",
        "step1: Ask the user to enter a sentence\n",
        "\n",
        "step2: Count the number of 'E', and the number of 'e'\n",
        "\n",
        "step3: print the result"
      ]
    },
    {
      "cell_type": "code",
      "metadata": {
        "id": "6ZAwOiuO5G0X",
        "colab": {
          "base_uri": "https://localhost:8080/"
        },
        "outputId": "a36ad965-19d3-4c72-d78e-116792ec3328"
      },
      "source": [
        "# your code is here\n",
        "sentence= input('Enter a sentence')\n",
        "countE=0\n",
        "counte=0\n",
        "for c in sentence:\n",
        "  if c=='E':\n",
        "    countE+=1\n",
        "    continue\n",
        "  if c=='e':\n",
        "    counte+=1\n",
        "print(countE,counte)\n"
      ],
      "execution_count": 29,
      "outputs": [
        {
          "output_type": "stream",
          "name": "stdout",
          "text": [
            "Enter a sentenceRamone E linde\n",
            "1 2\n"
          ]
        }
      ]
    },
    {
      "cell_type": "markdown",
      "metadata": {
        "id": "7Ysdu7UJ_qf8"
      },
      "source": [
        "**Congratulations! You finished this Assignment and completed Module 4!**"
      ]
    }
  ]
}