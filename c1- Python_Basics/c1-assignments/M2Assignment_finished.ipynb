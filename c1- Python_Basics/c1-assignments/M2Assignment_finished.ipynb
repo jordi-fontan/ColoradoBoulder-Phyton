{
  "nbformat": 4,
  "nbformat_minor": 0,
  "metadata": {
    "colab": {
      "provenance": [],
      "collapsed_sections": [],
      "toc_visible": true
    },
    "kernelspec": {
      "name": "python3",
      "display_name": "Python 3"
    },
    "language_info": {
      "name": "python"
    }
  },
  "cells": [
    {
      "cell_type": "markdown",
      "metadata": {
        "id": "cnAUJprJdh9_"
      },
      "source": [
        "# Welcome to our second assignment!"
      ]
    },
    {
      "cell_type": "markdown",
      "metadata": {
        "id": "vVYcayGedmms"
      },
      "source": [
        "This assignment is about testing your understanding of variables and operations.\n",
        "\n",
        "We are going to create some simple programs using these tools. Are you ready? Let's get started!"
      ]
    },
    {
      "cell_type": "markdown",
      "metadata": {
        "id": "JP8eGBVyeSQx"
      },
      "source": [
        "You will find some small tasks in sections below. You should use input() to get the user to enter the information and use print() to print the information on the screen. At this moment, we can assume users will follow instructions carefully - they will enter the valid inputs as required."
      ]
    },
    {
      "cell_type": "markdown",
      "metadata": {
        "id": "TNbXeCDFeAcJ"
      },
      "source": [
        "## Simple check out\n",
        "\n",
        "###Instruction: You are going to program a super simple check-out system for a store. This store has an interesting rule that every customer can only buy one product (the quantity of the product is not limited) in one order.\n",
        "\n",
        "step1: Ask the user to enter the price / unit of the product (it should be a float)\n",
        "\n",
        "step2: Ask the user to enter the quantity of the product (it should be an integer)\n",
        "\n",
        "step3: We have a sales tax at 6.25%\n",
        "\n",
        "step4: Calculate and display the total amount of this order (for example, 59.25)\n",
        "\n",
        "step5: Ask the user to enter the amount of bills paid (for example, 60)\n",
        "\n",
        "step6: Calculate and display the change (for example, 0.75)"
      ]
    },
    {
      "cell_type": "code",
      "metadata": {
        "id": "x6IbZ6rFw76O",
        "colab": {
          "base_uri": "https://localhost:8080/"
        },
        "outputId": "1127b6c8-6690-4679-c28e-c74981bb6175"
      },
      "source": [
        "# your code is here\n",
        "\n",
        "#step1: Ask the user to enter the price / unit of the product (it should be a float)\n",
        "ppu=float(input(\"Enter the product's price per unit \"))\n",
        "\n",
        "#step2: Ask the user to enter the quantity of the product (it should be an integer)\n",
        "\n",
        "q=int(input(\"Enter the quantity of the product\"))\n",
        "\n",
        "#step3: We have a sales tax at 6.25%\n",
        "tax=0.0625\n",
        "\n",
        "\n",
        "#step4: Calculate and display the total amount of this order (for example, 59.25)\n",
        "total=q*ppu*(1+tax)\n",
        "print('Your total is:', total)\n",
        "#step5: Ask the user to enter the amount of bills paid (for example, 60)\n",
        "paid=int(input('Please, enter the amount of bills paid'))\n",
        "\n",
        "#step6: Calculate and display the chaçnge (for example, 0.75)\n",
        "\n",
        "change=paid-total\n",
        "\n",
        "print('YOur change is:', change)"
      ],
      "execution_count": 1,
      "outputs": [
        {
          "output_type": "stream",
          "name": "stdout",
          "text": [
            "Enter the product's price per unit 2.5\n",
            "Enter the quantity of the product3\n",
            "Your total is: 7.96875\n",
            "Please, enter the amount of bills paid10\n",
            "YOur change is: 2.03125\n"
          ]
        }
      ]
    },
    {
      "cell_type": "markdown",
      "metadata": {
        "id": "fZfiqg5lxFKF"
      },
      "source": [
        "## Tips Split\n",
        "\n",
        "###Instruction: You are going to program a super simple tip split system.\n",
        "\n",
        "step1: Ask the user to enter the total amount of meal before tax (it should be a float)\n",
        "\n",
        "step2: Ask the user to enter the number of people to split the tips (it should be an integer)\n",
        "\n",
        "step3: We have a sales tax at 6.25%, and we tip at 18%\n",
        "\n",
        "step4: Calculate and display the total amount due  (including tax and tips)\n",
        "\n",
        "step5: Calculate and display the amount each person should pay."
      ]
    },
    {
      "cell_type": "code",
      "metadata": {
        "id": "2bODNGPSx1-m",
        "colab": {
          "base_uri": "https://localhost:8080/"
        },
        "outputId": "fa18b280-2f45-4ba6-d4a6-e185e9145d96"
      },
      "source": [
        "# your code is here\n",
        "\n",
        "#step1: Ask the user to enter the total amount of meal before tax (it should be a float)\n",
        "amount_meal=float(input('Please enter the amount of meal before tax'))\n",
        "\n",
        "#step2: Ask the user to enter the number of people to split the tips (it should be an integer)\n",
        "people=int(input('Please enter the number of people to split the tips'))\n",
        "\n",
        "#step3: We have a sales tax at 6.25%, and we tip at 18%\n",
        "sales_tax=0.0625\n",
        "tip_rate=0.18\n",
        "\n",
        "#step4: Calculate and display the total amount due (including tax and tips)\n",
        "total=amount_meal*(1+sales_tax)*(1+tip_rate)\n",
        "print('The total is',total)\n",
        "#step5: Calculate and display the amount each person should pay.\n",
        "\n",
        "pricePerPerson=total/people\n",
        "print('The price  per person is',pricePerPerson)"
      ],
      "execution_count": 3,
      "outputs": [
        {
          "output_type": "stream",
          "name": "stdout",
          "text": [
            "Please enter the amount of meal before tax500\n",
            "Please enter the number of people to split the tips4\n",
            "The total is 626.875\n",
            "The price  per person is 156.71875\n"
          ]
        }
      ]
    },
    {
      "cell_type": "markdown",
      "metadata": {
        "id": "cZmW-HnwyHcI"
      },
      "source": [
        "## Compound Interest\n",
        "\n",
        "###Instruction: You are going to program a super simple Compound Interest calcualtor.\n",
        "\n",
        "step1: Ask the user to enter the amount saving right now (it should be a float)\n",
        "\n",
        "step2: Ask the user to enter the number of years(it should be an integer)\n",
        "\n",
        "step3: Ask the user to enter the interest rate (it should be a float number, and 0.03 represents 3%)\n",
        "\n",
        "step4: Calculate and display the total amount after these years"
      ]
    },
    {
      "cell_type": "code",
      "metadata": {
        "id": "wk6FHvAvyr_G",
        "colab": {
          "base_uri": "https://localhost:8080/"
        },
        "outputId": "2b904959-a55e-4a6e-833e-d24b1ff9e354"
      },
      "source": [
        "# your code is here\n",
        "\n",
        "#step1: Ask the user to enter the amount saving right now (it should be a float)\n",
        "savings=float(input('Amount savings'))\n",
        "\n",
        "#step2: Ask the user to enter the number of years(it should be an integer)\n",
        "years=int(input('Number of years'))\n",
        "\n",
        "#step3: Ask the user to enter the interest rate (it should be a float number, and 0.03 represents 3%)\n",
        "ir=float(input('Interest RAte (tant per one)'))\n",
        "\n",
        "#step4: Calculate and display the total amount after these years\n",
        "total=savings*(1+ir)**years\n",
        "print('COngrats you have',total)"
      ],
      "execution_count": 5,
      "outputs": [
        {
          "output_type": "stream",
          "name": "stdout",
          "text": [
            "Amount savings1000\n",
            "Number of years6\n",
            "Interest RAte (tant per one)0.1\n",
            "COngrats you have 1771.5610000000008\n"
          ]
        }
      ]
    },
    {
      "cell_type": "markdown",
      "metadata": {
        "id": "7Ysdu7UJ_qf8"
      },
      "source": [
        "**Congratulations! You finished this Assignment and completed Module 2!**"
      ]
    }
  ]
}
