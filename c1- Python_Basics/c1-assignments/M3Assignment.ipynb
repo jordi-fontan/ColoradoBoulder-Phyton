{
  "nbformat": 4,
  "nbformat_minor": 0,
  "metadata": {
    "colab": {
      "provenance": [],
      "collapsed_sections": [],
      "toc_visible": true,
      "include_colab_link": true
    },
    "kernelspec": {
      "name": "python3",
      "display_name": "Python 3"
    },
    "language_info": {
      "name": "python"
    }
  },
  "cells": [
    {
      "cell_type": "markdown",
      "metadata": {
        "id": "view-in-github",
        "colab_type": "text"
      },
      "source": [
        "<a href=\"https://colab.research.google.com/github/jordi-fontan/ColoradoBoulder-Phyton/blob/main/lab/M3Assignment.ipynb\" target=\"_parent\"><img src=\"https://colab.research.google.com/assets/colab-badge.svg\" alt=\"Open In Colab\"/></a>"
      ]
    },
    {
      "cell_type": "markdown",
      "metadata": {
        "id": "cnAUJprJdh9_"
      },
      "source": [
        "# Welcome to our third assignment!"
      ]
    },
    {
      "cell_type": "markdown",
      "metadata": {
        "id": "vVYcayGedmms"
      },
      "source": [
        "This assignment is about testing your understanding of flow control: branching.\n",
        "\n",
        "We are going to create some simple programs using these tools. Are you ready? Let's get started!"
      ]
    },
    {
      "cell_type": "markdown",
      "metadata": {
        "id": "JP8eGBVyeSQx"
      },
      "source": [
        "You will find some small tasks in sections below. You should use input() to get the user to enter the information and use print() to print the information on the screen. At this moment, we can assume users will follow instructions carefully - they will enter the valid inputs as required."
      ]
    },
    {
      "cell_type": "markdown",
      "metadata": {
        "id": "TNbXeCDFeAcJ"
      },
      "source": [
        "## What day is today?\n",
        "\n",
        "###Instruction: Write a program that asks the user for a number in the range of 1 through 7. The program should display the corresponding day of the week, where \n",
        "\n",
        "* 1    = Monday, \n",
        "* 2    = Tuesday, \n",
        "* 3    = Wednesday, \n",
        "* 4    = Thursday, \n",
        "* 5    = Friday, \n",
        "* 6    = Saturday, and \n",
        "* 7    = Sunday\n",
        "* all other value entered = ERROR"
      ]
    },
    {
      "cell_type": "code",
      "metadata": {
        "id": "x6IbZ6rFw76O",
        "colab": {
          "base_uri": "https://localhost:8080/"
        },
        "outputId": "0645f4dc-2ef8-452b-c191-7668d13a6fe1"
      },
      "source": [
        "day=int(input('Enter number of day'))\n",
        "if day==1:\n",
        "  print('It is','Monday')\n",
        "elif day==2:\n",
        "  print('It is','Tuesday')\n",
        "elif day==3:\n",
        "  print('It is','Wednesday')\n",
        "elif day==4:\n",
        "  print('It is','Thursday')\n",
        "elif day==5:\n",
        "  print('It is','Friday')\n",
        "elif day==6:\n",
        "  print('It is','Saturday')\n",
        "elif day==7:\n",
        "  print('It is','Sunday')\n",
        "else:\n",
        "  print('It is','ERROR')              \n"
      ],
      "execution_count": 5,
      "outputs": [
        {
          "output_type": "stream",
          "name": "stdout",
          "text": [
            "Enter number of day9\n",
            "It is ERROR\n"
          ]
        }
      ]
    },
    {
      "cell_type": "markdown",
      "metadata": {
        "id": "fZfiqg5lxFKF"
      },
      "source": [
        "## Tax Calculator\n",
        "\n",
        "###Instruction: You are going to program a  simple tax calculator.\n",
        "\n",
        "step1: Ask the user to enter the gross income of year 2022.\n",
        "\n",
        "step2: Calculate the tax based on following formula:\n",
        "\n",
        "1.   Less than \\$100,000, one pays just 1%\n",
        "2.   More than \\$100,000 one pays 5%\n",
        "3.   More than \\$500,000 then one pays 5% tax on the first 500,000 and 2 cents for every dollar above 500,000\n",
        "\n",
        "step3: Print the tax amount on the screen."
      ]
    },
    {
      "cell_type": "code",
      "metadata": {
        "id": "2bODNGPSx1-m",
        "colab": {
          "base_uri": "https://localhost:8080/"
        },
        "outputId": "de1d58ef-ed8a-4d6e-c2d8-c923fcc08b2d"
      },
      "source": [
        "income=float(input('enter the gross income'))\n",
        "if income<100000:\n",
        "  tax=income*0.01\n",
        "elif income<500000:\n",
        "  tax=income*0.05\n",
        "else:\n",
        "  tax=income*0.05 + 0.02*(income-500000)\n",
        "print('Tax are: ', tax)  "
      ],
      "execution_count": 9,
      "outputs": [
        {
          "output_type": "stream",
          "name": "stdout",
          "text": [
            "enter the gross income1000000\n",
            "Tax are:  60000.0\n"
          ]
        }
      ]
    },
    {
      "cell_type": "markdown",
      "metadata": {
        "id": "cZmW-HnwyHcI"
      },
      "source": [
        "## A Simple Calculator\n",
        "\n",
        "###Instruction: You are going to program a super simple Calcualtor.\n",
        "\n",
        "step1: Ask the user to enter the first number, store it in x\n",
        "\n",
        "step2: Ask the user to enter the second number, store it in y \n",
        "\n",
        "step3: Ask the user to enter the operator, store it in p\n",
        "\n",
        "step4: Calculate the result of x p y.\n",
        "\n",
        "For example, if the user entered 2, 3, and +, you should print 2.0 + 3.0 = 5.0 on the screen"
      ]
    },
    {
      "cell_type": "code",
      "metadata": {
        "id": "wk6FHvAvyr_G",
        "colab": {
          "base_uri": "https://localhost:8080/"
        },
        "outputId": "7a454384-b44c-4175-a8d7-d48a0f689db4"
      },
      "source": [
        "x=float(input('Enter x: '))\n",
        "y=float(input('Enter y: '))\n",
        "p=input('Enter operator ')\n",
        "if p=='+':\n",
        "   result= x+y\n",
        "elif p=='-':\n",
        "   result= x-y\n",
        "elif p=='*':\n",
        "   result= x*y\n",
        "elif p=='/':   \n",
        "     result= x/y\n",
        "print('x',p,'y','=',result)\n"
      ],
      "execution_count": 10,
      "outputs": [
        {
          "output_type": "stream",
          "name": "stdout",
          "text": [
            "Enter x: 3\n",
            "Enter y: 7\n",
            "Enter operator /\n",
            "x / y = 0.42857142857142855\n"
          ]
        }
      ]
    },
    {
      "cell_type": "markdown",
      "metadata": {
        "id": "auP4vt99EOJx"
      },
      "source": [
        "## Taxi Fare Calculator\n",
        "\n",
        "###Instruction: You are going to program a simple Calcualtor for a taxi.\n",
        "\n",
        "step1: Ask the driver to enter total miles, store it in m\n",
        "\n",
        "step2: Calculate the fare based on the formular\n",
        "\n",
        "*   if m < 10, fare is \\$5\n",
        "*   if 10 <= m < 20, fare is \\$5 plus \\$1 for every mile beyond 10.\n",
        "*   if m >= 20, fare is \\$5 plus \\$1.5 for every mile beyond 10\n",
        "\n",
        "step3: print the fare.\n"
      ]
    },
    {
      "cell_type": "code",
      "metadata": {
        "id": "3sEH96OkGAzR",
        "colab": {
          "base_uri": "https://localhost:8080/"
        },
        "outputId": "d433bd66-4b14-46fa-9a68-cf6d8eb896e0"
      },
      "source": [
        "mile=float(input('Total miles: '))\n",
        "\n",
        "fare=0\n",
        "if mile<10:\n",
        "  fare=5\n",
        "elif mile<20:\n",
        "  fare=5+1*(mile-10)  \n",
        "else:\n",
        "  fare=5+1.5*(mile-10)  \n",
        "print('Fare is:', fare)  "
      ],
      "execution_count": 2,
      "outputs": [
        {
          "output_type": "stream",
          "name": "stdout",
          "text": [
            "Total miles: 17\n",
            "Fare is: 12.0\n"
          ]
        }
      ]
    },
    {
      "cell_type": "markdown",
      "metadata": {
        "id": "ylesrgONGCbf"
      },
      "source": [
        "## Flash Shipping charges\n",
        "\n",
        "###Instruction: You are going to program a shipping charge calculator for a deliver company - Flash Shipping.\n",
        "\n",
        "The rate of delivery is as below\n",
        "\n",
        "| Weight of Package | Domestic Rate Per Pound | International Rate Per Pound |\n",
        "| --- | --- | --- |\n",
        "| 2 lbs or less | \\$1.5 | \\$5.0 |\n",
        "| More than 2 lbs but no more than 6 lbs | \\$2.5 | \\$7.0 |\n",
        "| Morethan 6 lbs but no more than 20 lbs | \\$3.5 | \\$10.0 |\n",
        "| More than 20 lbs | \\$5.0 | \\$15.0 |\n",
        "\n",
        "step1: Ask the user to enter the weight of the package, and the destination (domestic or international)\n",
        "\n",
        "step2: Calculate the shipping charge based on the rate\n",
        "\n",
        "step3: print the charge.\n"
      ]
    },
    {
      "cell_type": "code",
      "metadata": {
        "id": "PntyPGzNHiYw",
        "colab": {
          "base_uri": "https://localhost:8080/"
        },
        "outputId": "7bbd1a33-b476-4508-eaea-75f49361fc22"
      },
      "source": [
        "weight=float(input('Enter weight'))\n",
        "destination=input('Enter destination')\n",
        "if destination=='domestic':\n",
        "  if weight<=2:\n",
        "    rate=1.5\n",
        "  elif weight<=6:\n",
        "    rate=2.5\n",
        "  elif weight<=20:    \n",
        "    rate=3.5\n",
        "  else:\n",
        "    rate=5.0  \n",
        "elif destination=='international':\n",
        "  if weight<=2:\n",
        "    rate=5.0\n",
        "  elif weight<=6:\n",
        "    rate=7.0\n",
        "  elif weight<=20:    \n",
        "    rate=10.0\n",
        "  else:\n",
        "    rate=15.0\n",
        "\n",
        "print('rate is:',rate)          "
      ],
      "execution_count": 12,
      "outputs": [
        {
          "output_type": "stream",
          "name": "stdout",
          "text": [
            "Enter weight56\n",
            "Enter destinationinternational\n",
            "rate is: 15.0\n"
          ]
        }
      ]
    },
    {
      "cell_type": "markdown",
      "metadata": {
        "id": "7Ysdu7UJ_qf8"
      },
      "source": [
        "**Congratulations! You finished this Assignment and completed Module 3!**"
      ]
    }
  ]
}
