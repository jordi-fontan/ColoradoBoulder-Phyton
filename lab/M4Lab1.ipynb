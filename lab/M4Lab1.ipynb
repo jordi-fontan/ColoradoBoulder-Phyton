{
  "nbformat": 4,
  "nbformat_minor": 0,
  "metadata": {
    "colab": {
      "provenance": [],
      "collapsed_sections": [],
      "toc_visible": true,
      "include_colab_link": true
    },
    "kernelspec": {
      "name": "python3",
      "display_name": "Python 3"
    },
    "language_info": {
      "name": "python"
    }
  },
  "cells": [
    {
      "cell_type": "markdown",
      "metadata": {
        "id": "view-in-github",
        "colab_type": "text"
      },
      "source": [
        "<a href=\"https://colab.research.google.com/github/jordi-fontan/ColoradoBoulder-Phyton/blob/main/lab/M4Lab1.ipynb\" target=\"_parent\"><img src=\"https://colab.research.google.com/assets/colab-badge.svg\" alt=\"Open In Colab\"/></a>"
      ]
    },
    {
      "cell_type": "markdown",
      "metadata": {
        "id": "cnAUJprJdh9_"
      },
      "source": [
        "# Welcome to our Lab Practice!"
      ]
    },
    {
      "cell_type": "markdown",
      "metadata": {
        "id": "vVYcayGedmms"
      },
      "source": [
        "This lab is about repetition - while loops. Are you ready? Let's get started!"
      ]
    },
    {
      "cell_type": "markdown",
      "metadata": {
        "id": "JP8eGBVyeSQx"
      },
      "source": [
        "You will find some small tasks in sections below. "
      ]
    },
    {
      "cell_type": "markdown",
      "metadata": {
        "id": "EZ42d1Sue0Zp"
      },
      "source": [
        "###Task: Print all integers from -5 to 5. \n"
      ]
    },
    {
      "cell_type": "code",
      "metadata": {
        "id": "yDzNIHsSeu85",
        "colab": {
          "base_uri": "https://localhost:8080/"
        },
        "outputId": "5e35362b-b570-4cba-b7f4-50d5f3c09d86"
      },
      "source": [
        "# type your code here\n",
        "i=-5\n",
        "while i<6:\n",
        "  print(i)\n",
        "  i=i+1\n",
        "  \n"
      ],
      "execution_count": 5,
      "outputs": [
        {
          "output_type": "stream",
          "name": "stdout",
          "text": [
            "-5\n",
            "-4\n",
            "-3\n",
            "-2\n",
            "-1\n",
            "0\n",
            "1\n",
            "2\n",
            "3\n",
            "4\n",
            "5\n"
          ]
        }
      ]
    },
    {
      "cell_type": "markdown",
      "metadata": {
        "id": "u8WEYfEqIbWX"
      },
      "source": [
        "###Task: Print all integers of an interval given by the user\n",
        "\n",
        "Ask the user to enter two integers and print all integers between (including) them."
      ]
    },
    {
      "cell_type": "code",
      "metadata": {
        "id": "LKSmcHRRJUYY",
        "colab": {
          "base_uri": "https://localhost:8080/"
        },
        "outputId": "719c001c-5b3a-4048-c206-2b948b6041df"
      },
      "source": [
        "# type your code here\n",
        "i=int(input('Enter first number: '))\n",
        "j=int(input('Enter second number: '))\n",
        "first=0\n",
        "second=0\n",
        "if i<j:\n",
        "  first=i\n",
        "  second=j\n",
        "else:\n",
        "  first=j\n",
        "  second=i  \n",
        "while first<second+1:\n",
        "  print(first)\n",
        "  first=first+1\n",
        " "
      ],
      "execution_count": 7,
      "outputs": [
        {
          "output_type": "stream",
          "name": "stdout",
          "text": [
            "Enter first number: -3\n",
            "Enter second number: 9\n",
            "-3\n",
            "-2\n",
            "-1\n",
            "0\n",
            "1\n",
            "2\n",
            "3\n",
            "4\n",
            "5\n",
            "6\n",
            "7\n",
            "8\n",
            "9\n"
          ]
        }
      ]
    },
    {
      "cell_type": "markdown",
      "metadata": {
        "id": "-__o8ovbfSEH"
      },
      "source": [
        "###Task: Double The Number \n",
        "\n",
        "Step 1: Ask the user to enter a small positive number (0 - 10) \n",
        "\n",
        "Step 2: Double the number, print it out, and repeat, until the number beyond 1,000,000\n",
        "\n",
        "(How fast the number is growing)"
      ]
    },
    {
      "cell_type": "code",
      "metadata": {
        "id": "hOpxhSKog18Y"
      },
      "source": [
        "# your code will be here"
      ],
      "execution_count": null,
      "outputs": []
    },
    {
      "cell_type": "markdown",
      "metadata": {
        "id": "uZYVZQIvIlPy"
      },
      "source": [
        "###Task: Keep asking for candy until 'STOP'  \n",
        "\n",
        "Step1: Ask the user to enter anything\n",
        "\n",
        "Step2: print a message 'Thanks! I got a candy'\n",
        "\n",
        "Step3: Repeat Step 1 and 2, until the user enter 'Done'\n",
        "\n",
        "Step4: print a message 'Thanks! I have enough.'"
      ]
    },
    {
      "cell_type": "code",
      "metadata": {
        "id": "Y_3dcyvcQ2GI",
        "colab": {
          "base_uri": "https://localhost:8080/"
        },
        "outputId": "1285cd19-8b02-441d-8a69-8a1640491b0b"
      },
      "source": [
        "# your code will be here\n",
        "s=''\n",
        "while s!= 'Done':\n",
        "   s=input('enter anything: ')\n",
        "   if s!='Done':\n",
        "     print('Thanks I got a candy')\n",
        "print('Thanks, I have enought')"
      ],
      "execution_count": 8,
      "outputs": [
        {
          "output_type": "stream",
          "name": "stdout",
          "text": [
            "enter anything: koko\n",
            "Thanks I got a candy\n",
            "enter anything: loli\n",
            "Thanks I got a candy\n",
            "enter anything: Done\n",
            "Thanks I got a candy\n",
            "Thanks, I have enought\n"
          ]
        }
      ]
    },
    {
      "cell_type": "markdown",
      "metadata": {
        "id": "qKFwdIypmt5J"
      },
      "source": [
        "### Task: Password Setup\n",
        "\n",
        "*   Ask the user to enter a new password.\n",
        "*   Ask the user to enter the password again.\n",
        "*   If the second input matches the first one, print \"You are all set\", otherwise, repeat the process.\n"
      ]
    },
    {
      "cell_type": "code",
      "metadata": {
        "id": "6pqvFtl8nHei",
        "colab": {
          "base_uri": "https://localhost:8080/"
        },
        "outputId": "5935c790-0872-441a-d287-1e32c07fc75b"
      },
      "source": [
        "# your code will be here\n",
        "password=input('Please, enter a new password')\n",
        "password_check=input('Please, re-enter the new password')\n",
        "while(password!=password_check):\n",
        "  password=input('Please, enter a new password')\n",
        "  password_check=input('Please, re-enter the new password')\n",
        "print('You\\'re all set')  \n",
        "  \n"
      ],
      "execution_count": 9,
      "outputs": [
        {
          "output_type": "stream",
          "name": "stdout",
          "text": [
            "Please, enter a new passwordjo\n",
            "Please, re-enter the new passwordko\n",
            "Please, enter a new passwordjo\n",
            "Please, re-enter the new passwordjo\n",
            "You're all set\n"
          ]
        }
      ]
    }
  ]
}