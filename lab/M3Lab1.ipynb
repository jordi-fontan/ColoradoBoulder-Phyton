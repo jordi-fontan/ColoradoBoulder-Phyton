{
  "nbformat": 4,
  "nbformat_minor": 0,
  "metadata": {
    "colab": {
      "provenance": [],
      "collapsed_sections": [],
      "toc_visible": true,
      "include_colab_link": true
    },
    "kernelspec": {
      "name": "python3",
      "display_name": "Python 3"
    },
    "language_info": {
      "name": "python"
    }
  },
  "cells": [
    {
      "cell_type": "markdown",
      "metadata": {
        "id": "view-in-github",
        "colab_type": "text"
      },
      "source": [
        "<a href=\"https://colab.research.google.com/github/jordi-fontan/ColoradoBoulder-Phyton/blob/main/lab/M3Lab1.ipynb\" target=\"_parent\"><img src=\"https://colab.research.google.com/assets/colab-badge.svg\" alt=\"Open In Colab\"/></a>"
      ]
    },
    {
      "cell_type": "markdown",
      "metadata": {
        "id": "cnAUJprJdh9_"
      },
      "source": [
        "# Welcome to our Lab Practice!"
      ]
    },
    {
      "cell_type": "markdown",
      "metadata": {
        "id": "vVYcayGedmms"
      },
      "source": [
        "This lab is about branching - if statements. Are you ready? Let's get started!"
      ]
    },
    {
      "cell_type": "markdown",
      "metadata": {
        "id": "JP8eGBVyeSQx"
      },
      "source": [
        "You will find some small tasks in sections below. "
      ]
    },
    {
      "cell_type": "markdown",
      "metadata": {
        "id": "EZ42d1Sue0Zp"
      },
      "source": [
        "###Task: check if a number is even. \n",
        "\n",
        "You should ask the user to enter an integer, if it is an even number, print \"it is even\"; otherwise, print nothing.\n",
        "\n",
        "hint: to test if a number is even, we need to use %2 and check the reminder is 0 or not. If it is 0, then the number is even."
      ]
    },
    {
      "cell_type": "code",
      "metadata": {
        "id": "yDzNIHsSeu85",
        "colab": {
          "base_uri": "https://localhost:8080/"
        },
        "outputId": "77bf1973-5cd0-42d0-fc6d-0b88c5585c18"
      },
      "source": [
        "# type your code here\n",
        "x=int(input(\"Enter an int \"))\n",
        "\n",
        "if x%2==0 :\n",
        "  print(x, 'is even')\n"
      ],
      "execution_count": 2,
      "outputs": [
        {
          "name": "stdout",
          "output_type": "stream",
          "text": [
            "Enter an int7\n"
          ]
        }
      ]
    },
    {
      "cell_type": "markdown",
      "metadata": {
        "id": "u8WEYfEqIbWX"
      },
      "source": [
        "###Task: check if a number is odd. \n",
        "\n",
        "Similar to the task above. However, this time, you only print \"It is odd\" when the number entered is odd."
      ]
    },
    {
      "cell_type": "code",
      "metadata": {
        "id": "LKSmcHRRJUYY",
        "colab": {
          "base_uri": "https://localhost:8080/"
        },
        "outputId": "d524220d-5d1c-4bf9-fa86-06bd79adcfdb"
      },
      "source": [
        "# type your code here\n",
        "x=int(input(\"Enter an int \"))\n",
        "\n",
        "if x%2==1 :\n",
        "  print(x, 'is odd')\n",
        "  "
      ],
      "execution_count": 3,
      "outputs": [
        {
          "output_type": "stream",
          "name": "stdout",
          "text": [
            "Enter an int3\n",
            "3 is odd\n"
          ]
        }
      ]
    },
    {
      "cell_type": "markdown",
      "metadata": {
        "id": "-__o8ovbfSEH"
      },
      "source": [
        "###Task: check if a number is divisible by 6 \n",
        "\n",
        "You should ask the user to enter an integer, if it is dividable by 6, print \"It can be divisible by 6\"."
      ]
    },
    {
      "cell_type": "code",
      "metadata": {
        "id": "hOpxhSKog18Y",
        "colab": {
          "base_uri": "https://localhost:8080/"
        },
        "outputId": "a79d32a4-f971-4556-eb44-5803c2b4814a"
      },
      "source": [
        "# your code will be here\n",
        "x=int(input(\"Enter an int \"))\n",
        "\n",
        "if x%6==0 :\n",
        "  print(x, 'can be divisable by 6')"
      ],
      "execution_count": 4,
      "outputs": [
        {
          "output_type": "stream",
          "name": "stdout",
          "text": [
            "Enter an int6\n",
            "6 can be divisable by 6\n"
          ]
        }
      ]
    },
    {
      "cell_type": "markdown",
      "metadata": {
        "id": "uZYVZQIvIlPy"
      },
      "source": [
        "###Task: check if an input is 'STOP'  \n",
        "\n",
        "Ask the user to enter some words, and only when the user entered \"STOP\", you print \"Bye\"."
      ]
    },
    {
      "cell_type": "code",
      "metadata": {
        "id": "Y_3dcyvcQ2GI",
        "colab": {
          "base_uri": "https://localhost:8080/"
        },
        "outputId": "af1419a8-a12c-4fe9-8e00-8f5c5855a7a2"
      },
      "source": [
        "# your code will be here\n",
        "s=input(\"Enter an order \")\n",
        "\n",
        "if s=='STOP' :\n",
        "  print('Bye')"
      ],
      "execution_count": 7,
      "outputs": [
        {
          "output_type": "stream",
          "name": "stdout",
          "text": [
            "Enter an orderSTOP\n",
            "Bye\n"
          ]
        }
      ]
    },
    {
      "cell_type": "markdown",
      "metadata": {
        "id": "qKFwdIypmt5J"
      },
      "source": [
        "### Task: Password Setup\n",
        "\n",
        "*   Ask the user to enter a new password.\n",
        "*   Ask the user to enter the password again.\n",
        "*   If the second input matches the first one, print \"You are all set\"\n"
      ]
    },
    {
      "cell_type": "code",
      "metadata": {
        "id": "6pqvFtl8nHei",
        "colab": {
          "base_uri": "https://localhost:8080/"
        },
        "outputId": "e5730f73-2382-402f-fcdb-0f20964523cf"
      },
      "source": [
        "# your code will be here\n",
        "s=input(\"Enter a new password \")\n",
        "s2=input(\"Repeat new password \")\n",
        "if s==s2 :\n",
        "  print('You are all set')\n"
      ],
      "execution_count": 9,
      "outputs": [
        {
          "output_type": "stream",
          "name": "stdout",
          "text": [
            "Enter a new password abc\n",
            "Repeat new password abc\n",
            "You are all set\n"
          ]
        }
      ]
    }
  ]
}