{
  "nbformat": 4,
  "nbformat_minor": 0,
  "metadata": {
    "colab": {
      "provenance": [],
      "collapsed_sections": [],
      "authorship_tag": "ABX9TyODMYNGUq6FIj+ne9z14gWC",
      "include_colab_link": true
    },
    "kernelspec": {
      "name": "python3",
      "display_name": "Python 3"
    },
    "language_info": {
      "name": "python"
    }
  },
  "cells": [
    {
      "cell_type": "markdown",
      "metadata": {
        "id": "view-in-github",
        "colab_type": "text"
      },
      "source": [
        "<a href=\"https://colab.research.google.com/github/jordi-fontan/ColoradoBoulder-Phyton/blob/main/C1M2Variables.ipynb\" target=\"_parent\"><img src=\"https://colab.research.google.com/assets/colab-badge.svg\" alt=\"Open In Colab\"/></a>"
      ]
    },
    {
      "cell_type": "markdown",
      "source": [
        "\n",
        "# Vars & Assignement\n",
        "\n",
        "\n",
        "1.   Variables follow same rules as most languages.\n",
        "2.   Assignement uses =\n",
        "\n"
      ],
      "metadata": {
        "id": "VubaLts0ukzJ"
      }
    },
    {
      "cell_type": "markdown",
      "source": [
        "# Types\n",
        "\n",
        "\n",
        "1.   type function return var type\n",
        "2.   Elemento de lista\n",
        "\n"
      ],
      "metadata": {
        "id": "Q0sGWy8CvsQR"
      }
    },
    {
      "cell_type": "code",
      "execution_count": null,
      "metadata": {
        "colab": {
          "base_uri": "https://localhost:8080/"
        },
        "id": "Qm5L1ckVudUY",
        "outputId": "b0b1c716-0018-482f-c703-6309babdc3a1"
      },
      "outputs": [
        {
          "output_type": "stream",
          "name": "stdout",
          "text": [
            "<class 'str'>\n",
            "3\n",
            "<class 'int'>\n",
            "<class 'str'>\n",
            "boo\n",
            "y stills points to 5\n"
          ]
        }
      ],
      "source": [
        "var = ' Hello'\n",
        "print(type(var)) # returns str\n",
        "type('Hello')\n",
        "\n",
        "# types are dynamic\n",
        "\n",
        "x= 3\n",
        "print(x)\n",
        "print(type(x))\n",
        "x='boo'\n",
        "print(type(x))\n",
        "print(x)\n",
        "\n"
      ]
    },
    {
      "cell_type": "code",
      "source": [
        "# numeric types\n",
        "\n",
        "x= 2 #int\n",
        "k= 5.2 #float"
      ],
      "metadata": {
        "id": "hqqx4gmxjrZI"
      },
      "execution_count": null,
      "outputs": []
    },
    {
      "cell_type": "markdown",
      "source": [],
      "metadata": {
        "id": "NWTI7P3bq_54"
      }
    },
    {
      "cell_type": "code",
      "source": [
        "\n",
        "# vars references value\n",
        "\n",
        "x=5\n",
        "y=x\n",
        "x=6\n",
        "type(\"message\")\n",
        "print('y still points to',y)"
      ],
      "metadata": {
        "colab": {
          "base_uri": "https://localhost:8080/"
        },
        "id": "BRwbKbHjif3y",
        "outputId": "55be98ad-1656-4096-8b33-842962ccfaed"
      },
      "execution_count": null,
      "outputs": [
        {
          "output_type": "stream",
          "name": "stdout",
          "text": [
            "y still points to 5\n"
          ]
        }
      ]
    },
    {
      "cell_type": "markdown",
      "source": [
        "# Value Conversion\n",
        "### Valid Values can be converted to other data type\n",
        "\n",
        "str/float --> int\n"
      ],
      "metadata": {
        "id": "HH2Upd1kujAS"
      }
    },
    {
      "cell_type": "code",
      "source": [
        "x=int('5')  #ok\n",
        "# z=int('A') ## error\n",
        "x=int(5.0) #ok\n",
        "x=int(5.6) # 5 value after dec point is discarded\n",
        "print(x)"
      ],
      "metadata": {
        "colab": {
          "base_uri": "https://localhost:8080/"
        },
        "id": "53qC0Y3AraoG",
        "outputId": "717f1c7f-82e4-4846-c9da-c94fb6d3e0b4"
      },
      "execution_count": null,
      "outputs": [
        {
          "output_type": "stream",
          "name": "stdout",
          "text": [
            "5\n"
          ]
        }
      ]
    },
    {
      "cell_type": "markdown",
      "source": [
        "int/float --> str\n"
      ],
      "metadata": {
        "id": "uMy6UEBWtdP0"
      }
    },
    {
      "cell_type": "code",
      "source": [
        "x=str(5) # reters to str '5'\n",
        "print(type(x))"
      ],
      "metadata": {
        "colab": {
          "base_uri": "https://localhost:8080/"
        },
        "id": "0ue_nntOtnku",
        "outputId": "402176e5-5cd3-407a-c85e-0b87c3b20c89"
      },
      "execution_count": null,
      "outputs": [
        {
          "output_type": "stream",
          "name": "stdout",
          "text": [
            "<class 'str'>\n"
          ]
        }
      ]
    },
    {
      "cell_type": "markdown",
      "source": [
        "int/str --> float\n"
      ],
      "metadata": {
        "id": "5v4II6ZnuC4k"
      }
    },
    {
      "cell_type": "code",
      "source": [
        "x=float(5)  ## x=5.0\n",
        "print(x)\n",
        "x\n"
      ],
      "metadata": {
        "colab": {
          "base_uri": "https://localhost:8080/"
        },
        "id": "uuz6q-iHuJ2G",
        "outputId": "1f28ea46-95f6-469a-eb9f-95496139d2ec"
      },
      "execution_count": null,
      "outputs": [
        {
          "output_type": "stream",
          "name": "stdout",
          "text": [
            "5.0\n"
          ]
        },
        {
          "output_type": "execute_result",
          "data": {
            "text/plain": [
              "5.0"
            ]
          },
          "metadata": {},
          "execution_count": 9
        }
      ]
    }
  ]
}