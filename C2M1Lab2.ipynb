{
  "nbformat": 4,
  "nbformat_minor": 0,
  "metadata": {
    "colab": {
      "provenance": [],
      "toc_visible": true,
      "collapsed_sections": [],
      "include_colab_link": true
    },
    "kernelspec": {
      "name": "python3",
      "display_name": "Python 3"
    },
    "language_info": {
      "name": "python"
    }
  },
  "cells": [
    {
      "cell_type": "markdown",
      "metadata": {
        "id": "view-in-github",
        "colab_type": "text"
      },
      "source": [
        "<a href=\"https://colab.research.google.com/github/jordi-fontan/ColoradoBoulder-Phyton/blob/main/C2M1Lab2.ipynb\" target=\"_parent\"><img src=\"https://colab.research.google.com/assets/colab-badge.svg\" alt=\"Open In Colab\"/></a>"
      ]
    },
    {
      "cell_type": "markdown",
      "metadata": {
        "id": "cnAUJprJdh9_"
      },
      "source": [
        "# Welcome to our Lab Practice!"
      ]
    },
    {
      "cell_type": "markdown",
      "metadata": {
        "id": "vVYcayGedmms"
      },
      "source": [
        "This lab is all about defining simple functions. Are you ready? Let's go!"
      ]
    },
    {
      "cell_type": "markdown",
      "metadata": {
        "id": "JP8eGBVyeSQx"
      },
      "source": [
        "You will find some small tasks in sections below. "
      ]
    },
    {
      "cell_type": "markdown",
      "metadata": {
        "id": "D8pWdoN7d6Dy"
      },
      "source": [
        "## Define simple functions (without return value and parameters)"
      ]
    },
    {
      "cell_type": "markdown",
      "metadata": {
        "id": "rXgbUIBRgQoG"
      },
      "source": [
        "###Task: define a function that print \"hello world\""
      ]
    },
    {
      "cell_type": "code",
      "metadata": {
        "id": "oIKwmW2mfe3d"
      },
      "source": [
        "# your code will be here\n",
        "def hello():\n",
        "  print('hello world')"
      ],
      "execution_count": null,
      "outputs": []
    },
    {
      "cell_type": "markdown",
      "source": [
        "###Task: define a function that print \"hello world\" 3 times"
      ],
      "metadata": {
        "id": "h-mrQgK7RKqm"
      }
    },
    {
      "cell_type": "code",
      "source": [
        "# your code will be here\n",
        "def hello3():\n",
        "  print('hello world')\n",
        "  print('hello world')\n",
        "  print('hello world')\n",
        "hello3()\n",
        "  "
      ],
      "metadata": {
        "id": "47f7Q_AIRMUW",
        "colab": {
          "base_uri": "https://localhost:8080/"
        },
        "outputId": "bec02f38-22cf-4806-c608-f14ebaa0d6a0"
      },
      "execution_count": 10,
      "outputs": [
        {
          "output_type": "stream",
          "name": "stdout",
          "text": [
            "hello world\n",
            "hello world\n",
            "hello world\n"
          ]
        }
      ]
    },
    {
      "cell_type": "markdown",
      "source": [
        "###Task: define a function that print integers 1 to 10 (hint: you can use a for loop)"
      ],
      "metadata": {
        "id": "1y6noqXNRMpG"
      }
    },
    {
      "cell_type": "code",
      "source": [
        "# your code will be here\n",
        "def hello10():\n",
        "  for i in range(10):\n",
        "    print('hello world')\n",
        "hello10()  "
      ],
      "metadata": {
        "id": "FR7idsVORX5_",
        "colab": {
          "base_uri": "https://localhost:8080/"
        },
        "outputId": "e2a08e95-600d-4f9b-a9d4-c6fe7c4a78e4"
      },
      "execution_count": 11,
      "outputs": [
        {
          "output_type": "stream",
          "name": "stdout",
          "text": [
            "hello world\n",
            "hello world\n",
            "hello world\n",
            "hello world\n",
            "hello world\n",
            "hello world\n",
            "hello world\n",
            "hello world\n",
            "hello world\n",
            "hello world\n"
          ]
        }
      ]
    },
    {
      "cell_type": "markdown",
      "source": [
        "###Task: define a function that print primary integers in 100 (hint: you can use loops)"
      ],
      "metadata": {
        "id": "OoTXs3WERYju"
      }
    },
    {
      "cell_type": "code",
      "source": [
        "# your code will be here\n",
        "def p100():\n",
        "  for i in range(100):\n",
        "    print(i)\n",
        "p100()  \n"
      ],
      "metadata": {
        "id": "2pS4qJ54RhKf"
      },
      "execution_count": null,
      "outputs": []
    },
    {
      "cell_type": "markdown",
      "source": [
        "###Task: define a function that print even number from 1 to 10."
      ],
      "metadata": {
        "id": "yU8y7mCoRmRH"
      }
    },
    {
      "cell_type": "code",
      "source": [
        "# your code will be here\n",
        "def p100():\n",
        "  for i in range(2,101,2):\n",
        "    print(i)\n",
        "p100() "
      ],
      "metadata": {
        "id": "g67KsRe3R2KG",
        "colab": {
          "base_uri": "https://localhost:8080/"
        },
        "outputId": "1e10704e-e77e-4458-e2c0-d3fde54d998d"
      },
      "execution_count": 17,
      "outputs": [
        {
          "output_type": "stream",
          "name": "stdout",
          "text": [
            "2\n",
            "4\n",
            "6\n",
            "8\n",
            "10\n",
            "12\n",
            "14\n",
            "16\n",
            "18\n",
            "20\n",
            "22\n",
            "24\n",
            "26\n",
            "28\n",
            "30\n",
            "32\n",
            "34\n",
            "36\n",
            "38\n",
            "40\n",
            "42\n",
            "44\n",
            "46\n",
            "48\n",
            "50\n",
            "52\n",
            "54\n",
            "56\n",
            "58\n",
            "60\n",
            "62\n",
            "64\n",
            "66\n",
            "68\n",
            "70\n",
            "72\n",
            "74\n",
            "76\n",
            "78\n",
            "80\n",
            "82\n",
            "84\n",
            "86\n",
            "88\n",
            "90\n",
            "92\n",
            "94\n",
            "96\n",
            "98\n",
            "100\n"
          ]
        }
      ]
    },
    {
      "cell_type": "markdown",
      "metadata": {
        "id": "QPoCScdkheK3"
      },
      "source": [
        "###Task: define a function that print odd number from 1 to 10"
      ]
    },
    {
      "cell_type": "code",
      "metadata": {
        "id": "tsFowDAKhJCB",
        "colab": {
          "base_uri": "https://localhost:8080/"
        },
        "outputId": "d4701d50-b331-4726-dbb8-c1e6f691c866"
      },
      "source": [
        "# your code will be here\n",
        "def p101():\n",
        "  for i in range(1,101,1):\n",
        "    if i%2==1:\n",
        "       print(i)\n",
        "p101() "
      ],
      "execution_count": 19,
      "outputs": [
        {
          "output_type": "stream",
          "name": "stdout",
          "text": [
            "1\n",
            "3\n",
            "5\n",
            "7\n",
            "9\n",
            "11\n",
            "13\n",
            "15\n",
            "17\n",
            "19\n",
            "21\n",
            "23\n",
            "25\n",
            "27\n",
            "29\n",
            "31\n",
            "33\n",
            "35\n",
            "37\n",
            "39\n",
            "41\n",
            "43\n",
            "45\n",
            "47\n",
            "49\n",
            "51\n",
            "53\n",
            "55\n",
            "57\n",
            "59\n",
            "61\n",
            "63\n",
            "65\n",
            "67\n",
            "69\n",
            "71\n",
            "73\n",
            "75\n",
            "77\n",
            "79\n",
            "81\n",
            "83\n",
            "85\n",
            "87\n",
            "89\n",
            "91\n",
            "93\n",
            "95\n",
            "97\n",
            "99\n"
          ]
        }
      ]
    },
    {
      "cell_type": "markdown",
      "metadata": {
        "id": "TE6Df1WYhu10"
      },
      "source": [
        "###Task: define a function that print \"Welcome to Course 2\""
      ]
    },
    {
      "cell_type": "code",
      "metadata": {
        "id": "MSjQbhNXhJVV",
        "colab": {
          "base_uri": "https://localhost:8080/"
        },
        "outputId": "4362cba7-5366-4b48-feb4-ae6c5481850c"
      },
      "source": [
        "# your code will be here\n",
        "def welcome():\n",
        "  \n",
        "    print(\"Welcome to Course 2\")\n",
        "welcome() "
      ],
      "execution_count": 20,
      "outputs": [
        {
          "output_type": "stream",
          "name": "stdout",
          "text": [
            "Welcome to Course 2\n"
          ]
        }
      ]
    },
    {
      "cell_type": "markdown",
      "metadata": {
        "id": "4iCITSR6h7Yv"
      },
      "source": [
        "###Task: define a function that print \"Welcome to Courose 2\" 10 times."
      ]
    },
    {
      "cell_type": "code",
      "metadata": {
        "id": "EKsuK9O6jW7D",
        "colab": {
          "base_uri": "https://localhost:8080/"
        },
        "outputId": "2ebc2192-4cb8-4da8-c0f2-f73577d8419b"
      },
      "source": [
        "# your code will be here\n",
        "def welcome10():\n",
        "  i=10\n",
        "  while i>0:\n",
        "    print(\"Welcome to Course 2\",i)\n",
        "    i-=1\n",
        "welcome10() "
      ],
      "execution_count": 24,
      "outputs": [
        {
          "output_type": "stream",
          "name": "stdout",
          "text": [
            "Welcome to Course 2 10\n",
            "Welcome to Course 2 9\n",
            "Welcome to Course 2 8\n",
            "Welcome to Course 2 7\n",
            "Welcome to Course 2 6\n",
            "Welcome to Course 2 5\n",
            "Welcome to Course 2 4\n",
            "Welcome to Course 2 3\n",
            "Welcome to Course 2 2\n",
            "Welcome to Course 2 1\n"
          ]
        }
      ]
    }
  ]
}