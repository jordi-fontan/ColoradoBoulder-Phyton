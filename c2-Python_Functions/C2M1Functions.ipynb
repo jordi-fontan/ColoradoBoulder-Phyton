{
  "nbformat": 4,
  "nbformat_minor": 0,
  "metadata": {
    "colab": {
      "provenance": [],
      "authorship_tag": "ABX9TyMYnZdyKa4g/AtJoJeIaZNa",
      "include_colab_link": true
    },
    "kernelspec": {
      "name": "python3",
      "display_name": "Python 3"
    },
    "language_info": {
      "name": "python"
    }
  },
  "cells": [
    {
      "cell_type": "markdown",
      "metadata": {
        "id": "view-in-github",
        "colab_type": "text"
      },
      "source": [
        "<a href=\"https://colab.research.google.com/github/jordi-fontan/ColoradoBoulder-Phyton/blob/main/c2-Python_Functions/C2M1Functions.ipynb\" target=\"_parent\"><img src=\"https://colab.research.google.com/assets/colab-badge.svg\" alt=\"Open In Colab\"/></a>"
      ]
    },
    {
      "cell_type": "markdown",
      "source": [
        "# Course2-Module1: Functions \n",
        "\n"
      ],
      "metadata": {
        "id": "whywXc35jHQf"
      }
    },
    {
      "cell_type": "markdown",
      "source": [
        "1. **Function:** group of statements within a program that perform as specific task\n",
        "  - Usuallyy one task of a large program\n",
        "  - Functions can be executed in order to perform overall program task\n",
        "\n",
        ">  Like having milestones, and submilestones to accomplish a whole complex program\n",
        "\n",
        "> Strategy divide and conquer= divide the complex program in many tasks, or even subtasks\n",
        "\n",
        "2. Functions we've used so far:"
      ],
      "metadata": {
        "id": "dlsh-TJrkj6S"
      }
    },
    {
      "cell_type": "code",
      "execution_count": null,
      "metadata": {
        "id": "fowWePlKhM8z"
      },
      "outputs": [],
      "source": []
    }
  ]
}