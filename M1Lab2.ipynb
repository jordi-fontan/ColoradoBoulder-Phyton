{
  "nbformat": 4,
  "nbformat_minor": 0,
  "metadata": {
    "colab": {
      "provenance": [],
      "collapsed_sections": [],
      "include_colab_link": true
    },
    "kernelspec": {
      "name": "python3",
      "display_name": "Python 3"
    },
    "language_info": {
      "name": "python"
    }
  },
  "cells": [
    {
      "cell_type": "markdown",
      "metadata": {
        "id": "view-in-github",
        "colab_type": "text"
      },
      "source": [
        "<a href=\"https://colab.research.google.com/github/jordi-fontan/ColoradoBoulder-Phyton/blob/main/M1Lab2.ipynb\" target=\"_parent\"><img src=\"https://colab.research.google.com/assets/colab-badge.svg\" alt=\"Open In Colab\"/></a>"
      ]
    },
    {
      "cell_type": "markdown",
      "metadata": {
        "id": "cnAUJprJdh9_"
      },
      "source": [
        "# Welcome to our Lab Practice!"
      ]
    },
    {
      "cell_type": "markdown",
      "metadata": {
        "id": "vVYcayGedmms"
      },
      "source": [
        "This lab is all about **input()** and we are going to get all kinds of information from the user (you) and print the respnose on the screen. Are you ready? Let's get started!"
      ]
    },
    {
      "cell_type": "markdown",
      "metadata": {
        "id": "JP8eGBVyeSQx"
      },
      "source": [
        "You will find some small tasks in sections below. You should use input() to get the user to enter the information and use print() to print the information on the screen."
      ]
    },
    {
      "cell_type": "markdown",
      "metadata": {
        "id": "TNbXeCDFeAcJ"
      },
      "source": [
        "## Ask for names"
      ]
    },
    {
      "cell_type": "markdown",
      "metadata": {
        "id": "EZ42d1Sue0Zp"
      },
      "source": [
        "###Task: Ask **\"What's your name?\"** and print the input on the screen"
      ]
    },
    {
      "cell_type": "code",
      "metadata": {
        "id": "yDzNIHsSeu85",
        "colab": {
          "base_uri": "https://localhost:8080/"
        },
        "outputId": "6acf50b8-8add-4fcb-e3d3-82fa1abf24d5"
      },
      "source": [
        "# type your code here\n",
        "print(input(\"What's your name?\"))"
      ],
      "execution_count": 1,
      "outputs": [
        {
          "output_type": "stream",
          "name": "stdout",
          "text": [
            "What's your name?Julius\n",
            "Julius\n"
          ]
        }
      ]
    },
    {
      "cell_type": "markdown",
      "metadata": {
        "id": "-__o8ovbfSEH"
      },
      "source": [
        "###Task: Ask **\"How do you feel so far? Enter 1 for Good; 2 for very good.\"** and print the input on the screen"
      ]
    },
    {
      "cell_type": "code",
      "metadata": {
        "id": "hOpxhSKog18Y",
        "colab": {
          "base_uri": "https://localhost:8080/"
        },
        "outputId": "b43079b6-5a64-41ef-d78c-d21168fe89d7"
      },
      "source": [
        "# your code will be here\n",
        "print(input(\"How do you feel so far?\"))"
      ],
      "execution_count": 2,
      "outputs": [
        {
          "output_type": "stream",
          "name": "stdout",
          "text": [
            "How do you feel so far?2\n",
            "2\n"
          ]
        }
      ]
    },
    {
      "cell_type": "markdown",
      "metadata": {
        "id": "NpCNxK68gpME"
      },
      "source": [
        "###Task: Ask **\"Are you ready to learn more? Enter Yes or No.\"** and print the input on the screen"
      ]
    },
    {
      "cell_type": "code",
      "metadata": {
        "id": "txg-7uKfgKeW",
        "colab": {
          "base_uri": "https://localhost:8080/"
        },
        "outputId": "0a5eb554-d9dc-4f93-ad9c-375fd96d15c5"
      },
      "source": [
        "# your code will be here\n",
        "print(input(\"Are you ready to learn more?\"))\n"
      ],
      "execution_count": 3,
      "outputs": [
        {
          "output_type": "stream",
          "name": "stdout",
          "text": [
            "Are you ready to learn more?Yes\n",
            "Yes\n"
          ]
        }
      ]
    },
    {
      "cell_type": "markdown",
      "metadata": {
        "id": "D8pWdoN7d6Dy"
      },
      "source": [
        "## Ask for numbers"
      ]
    },
    {
      "cell_type": "markdown",
      "metadata": {
        "id": "rXgbUIBRgQoG"
      },
      "source": [
        "###Task: Ask **\"How old are you?\"** and print the input on the screen"
      ]
    },
    {
      "cell_type": "code",
      "metadata": {
        "id": "oIKwmW2mfe3d"
      },
      "source": [
        "# your code will be here"
      ],
      "execution_count": null,
      "outputs": []
    },
    {
      "cell_type": "markdown",
      "metadata": {
        "id": "QPoCScdkheK3"
      },
      "source": [
        "###Task: Ask **\"Which number is your lucky number?\"** and print the input on the screen"
      ]
    },
    {
      "cell_type": "code",
      "metadata": {
        "id": "tsFowDAKhJCB"
      },
      "source": [
        "# your code will be here"
      ],
      "execution_count": null,
      "outputs": []
    },
    {
      "cell_type": "markdown",
      "metadata": {
        "id": "TE6Df1WYhu10"
      },
      "source": [
        "###Task: Ask **\"What date is today? yyyymmdd\"** and print the input on the screen"
      ]
    },
    {
      "cell_type": "code",
      "metadata": {
        "id": "MSjQbhNXhJVV"
      },
      "source": [
        "# your code will be here"
      ],
      "execution_count": null,
      "outputs": []
    }
  ]
}