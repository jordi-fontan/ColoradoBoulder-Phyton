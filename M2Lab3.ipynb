{
  "nbformat": 4,
  "nbformat_minor": 0,
  "metadata": {
    "colab": {
      "provenance": [],
      "collapsed_sections": [],
      "toc_visible": true,
      "include_colab_link": true
    },
    "kernelspec": {
      "name": "python3",
      "display_name": "Python 3"
    },
    "language_info": {
      "name": "python"
    }
  },
  "cells": [
    {
      "cell_type": "markdown",
      "metadata": {
        "id": "view-in-github",
        "colab_type": "text"
      },
      "source": [
        "<a href=\"https://colab.research.google.com/github/jordi-fontan/ColoradoBoulder-Phyton/blob/main/M2Lab3.ipynb\" target=\"_parent\"><img src=\"https://colab.research.google.com/assets/colab-badge.svg\" alt=\"Open In Colab\"/></a>"
      ]
    },
    {
      "cell_type": "markdown",
      "metadata": {
        "id": "cnAUJprJdh9_"
      },
      "source": [
        "# Welcome to our Lab Practice!"
      ]
    },
    {
      "cell_type": "markdown",
      "metadata": {
        "id": "vVYcayGedmms"
      },
      "source": [
        "\n",
        "This lab is about logical and relational operations. Are you ready? Let's get started!"
      ]
    },
    {
      "cell_type": "markdown",
      "metadata": {
        "id": "JP8eGBVyeSQx"
      },
      "source": [
        "You will find some small tasks in sections below. "
      ]
    },
    {
      "cell_type": "markdown",
      "metadata": {
        "id": "TNbXeCDFeAcJ"
      },
      "source": [
        "## Relational Operation\n",
        "\n",
        "In this section, you are going to code and run relational operations of two numbers.\n",
        "\n",
        "Hint: to print out the comparison, we can use the print() to print multiple values out. \n",
        "\n",
        "For example, `print(x, 'operator', y, 'is', x operator y)` for an operator."
      ]
    },
    {
      "cell_type": "markdown",
      "metadata": {
        "id": "hhAeaPrjTLRT"
      },
      "source": [
        "###Task: Get some comparisons.\n",
        "\n",
        "1.   Assign x with 2, y with 3.\n",
        "2.   print out the comparison and result of\n",
        "  1.   x > y\n",
        "  2.   x >= y\n",
        "  3.   x == y\n",
        "  4.   x <= y\n",
        "  5.   x < y\n",
        "  6.   x != y\n",
        "\n",
        "\n",
        "\n"
      ]
    },
    {
      "cell_type": "code",
      "metadata": {
        "id": "v4jLx-_gTIFA",
        "colab": {
          "base_uri": "https://localhost:8080/"
        },
        "outputId": "4bf4247b-d9f8-4efa-cf79-6e34b8147200"
      },
      "source": [
        "# type your code here\n",
        "\n",
        "x=2\n",
        "y=3\n",
        "print('x>y',x>y) \n",
        "print('x>=y',x>=y)\n",
        "print('x==y',x==y)\n",
        "print('x<=y',x<=y)\n",
        "print('x<y',x<y)\n",
        "print('x!=y',x!=y)\n"
      ],
      "execution_count": null,
      "outputs": [
        {
          "output_type": "stream",
          "name": "stdout",
          "text": [
            "x>y False\n",
            "x>=y False\n",
            "x==y False\n",
            "x<=y True\n",
            "x<y True\n",
            "x!=y True\n"
          ]
        }
      ]
    },
    {
      "cell_type": "markdown",
      "metadata": {
        "id": "EZ42d1Sue0Zp"
      },
      "source": [
        "###Task: More comparisons\n",
        "\n",
        "1.   Ask the user to enter an integer, convert and assign it to x;\n",
        "2.   Ask the user to enter another integer, convert and assign it to y;\n",
        "3.   print out the comparison and result of\n",
        "  1.   x > y\n",
        "  2.   x >= y\n",
        "  3.   x == y\n",
        "  4.   x <= y\n",
        "  5.   x < y\n",
        "  6.   x != y"
      ]
    },
    {
      "cell_type": "code",
      "metadata": {
        "id": "e4UI_UJpU-7q",
        "colab": {
          "base_uri": "https://localhost:8080/"
        },
        "outputId": "454953aa-266f-4799-fe61-22aaec5a5c28"
      },
      "source": [
        "# type your code here\n",
        "\n",
        "x=int(input('Please enter an integer'))\n",
        "y=int(input('Please enter another  integer'))\n",
        "print(x,'>',y,x>y) \n",
        "print(x,'>=',y,x>=y)\n",
        "print(x,'==',y,x==y)\n",
        "print(x,'<=',y,x<=y)\n",
        "print(x,'<',y,x<y)\n",
        "print(x,'!=',y,x!=y)\n",
        "\n"
      ],
      "execution_count": 6,
      "outputs": [
        {
          "output_type": "stream",
          "name": "stdout",
          "text": [
            "Please enter an integer7\n",
            "Please enter another  integer5\n",
            "7 > 5 True\n",
            "7 >= 5 True\n",
            "7 == 5 False\n",
            "7 <= 5 False\n",
            "7 < 5 False\n",
            "7 != 5 True\n"
          ]
        }
      ]
    },
    {
      "cell_type": "markdown",
      "metadata": {
        "id": "D8pWdoN7d6Dy"
      },
      "source": [
        "## Logical Operation\n",
        "\n",
        "In this section, you are going to code and run logical operations of two numbers.\n",
        "\n",
        "Hint: to print out the equation, we can use the print() to print multiple values out. \n",
        "\n",
        "For example, `print(x, 'operator', y, 'is', x operator y)` for an operator."
      ]
    },
    {
      "cell_type": "markdown",
      "metadata": {
        "id": "xDZeMhFteYjE"
      },
      "source": [
        "###Task: Get some computation.\n",
        "\n",
        "1.   Assign x with True, y with False.\n",
        "2.   print out the computation and result of\n",
        "  1.   x and x\n",
        "  2.   x and y\n",
        "  3.   y and x\n",
        "  4.   y and y\n",
        "  5.   x or x\n",
        "  6.   x or y\n",
        "  7.   y or x\n",
        "  8.   y or y\n",
        "  9.   not x\n",
        "  10.   not y\n",
        "\n",
        "\n",
        "\n"
      ]
    },
    {
      "cell_type": "code",
      "metadata": {
        "id": "yDzNIHsSeu85",
        "colab": {
          "base_uri": "https://localhost:8080/"
        },
        "outputId": "3a2d75d5-15fd-464b-f9cf-65b84cdb7913"
      },
      "source": [
        "# type your code here\n",
        "\n",
        "x = True \n",
        "y = False\n",
        "\n",
        "#x and x\n",
        "print(x, 'and', x, 'is', x and x)\n",
        "#x and y\n",
        "print(x, 'and', y, 'is', x and y)\n",
        "#y and x\n",
        "print(y, 'and', x, 'is', y and x)\n",
        "#y and y\n",
        "print(y, 'and', y, 'is', y and y)\n",
        "#x or x\n",
        "print(x, 'or', x, 'is', x or x)\n",
        "#x or y\n",
        "print(x, 'or', y, 'is', x or y)\n",
        "#y or x\n",
        "print(y, 'or', x, 'is', y or x)\n",
        "#y or y\n",
        "print(y, 'or', y, 'is', y or y)\n",
        "#not x\n",
        "print('not', x, 'is', not x)\n",
        "#not y\n",
        "print('not', y, 'is', not y)\n",
        "\n"
      ],
      "execution_count": 7,
      "outputs": [
        {
          "output_type": "stream",
          "name": "stdout",
          "text": [
            "True and True is True\n",
            "True and False is False\n",
            "False and True is False\n",
            "False and False is False\n",
            "True or True is True\n",
            "True or False is True\n",
            "False or True is True\n",
            "False or False is False\n",
            "not True is False\n",
            "not False is True\n"
          ]
        }
      ]
    }
  ]
}