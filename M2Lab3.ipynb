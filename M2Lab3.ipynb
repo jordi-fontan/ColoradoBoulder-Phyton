{
  "nbformat": 4,
  "nbformat_minor": 0,
  "metadata": {
    "colab": {
      "provenance": [],
      "collapsed_sections": [],
      "toc_visible": true,
      "include_colab_link": true
    },
    "kernelspec": {
      "name": "python3",
      "display_name": "Python 3"
    },
    "language_info": {
      "name": "python"
    }
  },
  "cells": [
    {
      "cell_type": "markdown",
      "metadata": {
        "id": "view-in-github",
        "colab_type": "text"
      },
      "source": [
        "<a href=\"https://colab.research.google.com/github/jordi-fontan/ColoradoBoulder-Phyton/blob/main/M2Lab3.ipynb\" target=\"_parent\"><img src=\"https://colab.research.google.com/assets/colab-badge.svg\" alt=\"Open In Colab\"/></a>"
      ]
    },
    {
      "cell_type": "markdown",
      "metadata": {
        "id": "cnAUJprJdh9_"
      },
      "source": [
        "# Welcome to our Lab Practice!"
      ]
    },
    {
      "cell_type": "markdown",
      "metadata": {
        "id": "vVYcayGedmms"
      },
      "source": [
        "\n",
        "This lab is about logical and relational operations. Are you ready? Let's get started!"
      ]
    },
    {
      "cell_type": "markdown",
      "metadata": {
        "id": "JP8eGBVyeSQx"
      },
      "source": [
        "You will find some small tasks in sections below. "
      ]
    },
    {
      "cell_type": "markdown",
      "metadata": {
        "id": "TNbXeCDFeAcJ"
      },
      "source": [
        "## Relational Operation\n",
        "\n",
        "In this section, you are going to code and run relational operations of two numbers.\n",
        "\n",
        "Hint: to print out the comparison, we can use the print() to print multiple values out. \n",
        "\n",
        "For example, `print(x, 'operator', y, 'is', x operator y)` for an operator."
      ]
    },
    {
      "cell_type": "markdown",
      "metadata": {
        "id": "hhAeaPrjTLRT"
      },
      "source": [
        "###Task: Get some comparisons.\n",
        "\n",
        "1.   Assign x with 2, y with 3.\n",
        "2.   print out the comparison and result of\n",
        "  1.   x > y\n",
        "  2.   x >= y\n",
        "  3.   x == y\n",
        "  4.   x <= y\n",
        "  5.   x < y\n",
        "  6.   x != y\n",
        "\n",
        "\n",
        "\n"
      ]
    },
    {
      "cell_type": "code",
      "metadata": {
        "id": "v4jLx-_gTIFA"
      },
      "source": [
        "# type your code here"
      ],
      "execution_count": null,
      "outputs": []
    },
    {
      "cell_type": "markdown",
      "metadata": {
        "id": "EZ42d1Sue0Zp"
      },
      "source": [
        "###Task: More comparisons\n",
        "\n",
        "1.   Ask the user to enter an integer, convert and assign it to x;\n",
        "2.   Ask the user to enter another integer, convert and assign it to y;\n",
        "3.   print out the comparison and result of\n",
        "  1.   x > y\n",
        "  2.   x >= y\n",
        "  3.   x == y\n",
        "  4.   x <= y\n",
        "  5.   x < y\n",
        "  6.   x != y"
      ]
    },
    {
      "cell_type": "code",
      "metadata": {
        "id": "e4UI_UJpU-7q"
      },
      "source": [
        "# type your code here"
      ],
      "execution_count": null,
      "outputs": []
    },
    {
      "cell_type": "markdown",
      "metadata": {
        "id": "D8pWdoN7d6Dy"
      },
      "source": [
        "## Logical Operation\n",
        "\n",
        "In this section, you are going to code and run logical operations of two numbers.\n",
        "\n",
        "Hint: to print out the equation, we can use the print() to print multiple values out. \n",
        "\n",
        "For example, `print(x, 'operator', y, 'is', x operator y)` for an operator."
      ]
    },
    {
      "cell_type": "markdown",
      "metadata": {
        "id": "xDZeMhFteYjE"
      },
      "source": [
        "###Task: Get some computation.\n",
        "\n",
        "1.   Assign x with True, y with False.\n",
        "2.   print out the computation and result of\n",
        "  1.   x and x\n",
        "  2.   x and y\n",
        "  3.   y and x\n",
        "  4.   y and y\n",
        "  5.   x or x\n",
        "  6.   x or y\n",
        "  7.   y or x\n",
        "  8.   y or y\n",
        "  9.   not x\n",
        "  10.   not y\n",
        "\n",
        "\n",
        "\n"
      ]
    },
    {
      "cell_type": "code",
      "metadata": {
        "id": "yDzNIHsSeu85"
      },
      "source": [
        "# type your code here"
      ],
      "execution_count": null,
      "outputs": []
    }
  ]
}